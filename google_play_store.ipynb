{
  "cells": [
    {
      "cell_type": "markdown",
      "metadata": {
        "id": "Esc6NvS3HcJH"
      },
      "source": [
        "# 資料預處理"
      ]
    },
    {
      "cell_type": "code",
      "execution_count": null,
      "metadata": {
        "id": "YB7oyK0vRvp9"
      },
      "outputs": [],
      "source": [
        "import pandas as pd\n",
        "import numpy as np"
      ]
    },
    {
      "cell_type": "code",
      "execution_count": null,
      "metadata": {
        "colab": {
          "base_uri": "https://localhost:8080/"
        },
        "id": "OwWrbHHRQhLJ",
        "outputId": "5ce1ca2b-a72e-4ef1-abfd-ed225688bfb8"
      },
      "outputs": [
        {
          "name": "stdout",
          "output_type": "stream",
          "text": [
            "Mounted at /content/drive\n"
          ]
        }
      ],
      "source": [
        "from google.colab import drive\n",
        "drive.mount('/content/drive')\n",
        "# file path = \"\"\n",
        "data = pd.read_csv(file path)"
      ]
    },
    {
      "cell_type": "code",
      "execution_count": null,
      "metadata": {
        "colab": {
          "base_uri": "https://localhost:8080/",
          "height": 691
        },
        "id": "IxjtHD6oz-6L",
        "outputId": "939cf237-c430-43b2-d1ef-5fa42546f828"
      },
      "outputs": [
        {
          "data": {
            "text/html": [
              "<div>\n",
              "<style scoped>\n",
              "    .dataframe tbody tr th:only-of-type {\n",
              "        vertical-align: middle;\n",
              "    }\n",
              "\n",
              "    .dataframe tbody tr th {\n",
              "        vertical-align: top;\n",
              "    }\n",
              "\n",
              "    .dataframe thead th {\n",
              "        text-align: right;\n",
              "    }\n",
              "</style>\n",
              "<table border=\"1\" class=\"dataframe\">\n",
              "  <thead>\n",
              "    <tr style=\"text-align: right;\">\n",
              "      <th></th>\n",
              "      <th>App</th>\n",
              "      <th>Category</th>\n",
              "      <th>Rating</th>\n",
              "      <th>Reviews</th>\n",
              "      <th>Size</th>\n",
              "      <th>Installs</th>\n",
              "      <th>Type</th>\n",
              "      <th>Price</th>\n",
              "      <th>Content Rating</th>\n",
              "      <th>Genres</th>\n",
              "      <th>Last Updated</th>\n",
              "      <th>Current Ver</th>\n",
              "      <th>Android Ver</th>\n",
              "    </tr>\n",
              "  </thead>\n",
              "  <tbody>\n",
              "    <tr>\n",
              "      <th>0</th>\n",
              "      <td>Photo Editor &amp; Candy Camera &amp; Grid &amp; ScrapBook</td>\n",
              "      <td>ART_AND_DESIGN</td>\n",
              "      <td>4.1</td>\n",
              "      <td>159</td>\n",
              "      <td>19M</td>\n",
              "      <td>10,000+</td>\n",
              "      <td>Free</td>\n",
              "      <td>0</td>\n",
              "      <td>Everyone</td>\n",
              "      <td>Art &amp; Design</td>\n",
              "      <td>January 7, 2018</td>\n",
              "      <td>1.0.0</td>\n",
              "      <td>4.0.3 and up</td>\n",
              "    </tr>\n",
              "    <tr>\n",
              "      <th>1</th>\n",
              "      <td>Coloring book moana</td>\n",
              "      <td>ART_AND_DESIGN</td>\n",
              "      <td>3.9</td>\n",
              "      <td>967</td>\n",
              "      <td>14M</td>\n",
              "      <td>500,000+</td>\n",
              "      <td>Free</td>\n",
              "      <td>0</td>\n",
              "      <td>Everyone</td>\n",
              "      <td>Art &amp; Design;Pretend Play</td>\n",
              "      <td>January 15, 2018</td>\n",
              "      <td>2.0.0</td>\n",
              "      <td>4.0.3 and up</td>\n",
              "    </tr>\n",
              "    <tr>\n",
              "      <th>2</th>\n",
              "      <td>U Launcher Lite – FREE Live Cool Themes, Hide ...</td>\n",
              "      <td>ART_AND_DESIGN</td>\n",
              "      <td>4.7</td>\n",
              "      <td>87510</td>\n",
              "      <td>8.7M</td>\n",
              "      <td>5,000,000+</td>\n",
              "      <td>Free</td>\n",
              "      <td>0</td>\n",
              "      <td>Everyone</td>\n",
              "      <td>Art &amp; Design</td>\n",
              "      <td>August 1, 2018</td>\n",
              "      <td>1.2.4</td>\n",
              "      <td>4.0.3 and up</td>\n",
              "    </tr>\n",
              "    <tr>\n",
              "      <th>3</th>\n",
              "      <td>Sketch - Draw &amp; Paint</td>\n",
              "      <td>ART_AND_DESIGN</td>\n",
              "      <td>4.5</td>\n",
              "      <td>215644</td>\n",
              "      <td>25M</td>\n",
              "      <td>50,000,000+</td>\n",
              "      <td>Free</td>\n",
              "      <td>0</td>\n",
              "      <td>Teen</td>\n",
              "      <td>Art &amp; Design</td>\n",
              "      <td>June 8, 2018</td>\n",
              "      <td>Varies with device</td>\n",
              "      <td>4.2 and up</td>\n",
              "    </tr>\n",
              "    <tr>\n",
              "      <th>4</th>\n",
              "      <td>Pixel Draw - Number Art Coloring Book</td>\n",
              "      <td>ART_AND_DESIGN</td>\n",
              "      <td>4.3</td>\n",
              "      <td>967</td>\n",
              "      <td>2.8M</td>\n",
              "      <td>100,000+</td>\n",
              "      <td>Free</td>\n",
              "      <td>0</td>\n",
              "      <td>Everyone</td>\n",
              "      <td>Art &amp; Design;Creativity</td>\n",
              "      <td>June 20, 2018</td>\n",
              "      <td>1.1</td>\n",
              "      <td>4.4 and up</td>\n",
              "    </tr>\n",
              "    <tr>\n",
              "      <th>...</th>\n",
              "      <td>...</td>\n",
              "      <td>...</td>\n",
              "      <td>...</td>\n",
              "      <td>...</td>\n",
              "      <td>...</td>\n",
              "      <td>...</td>\n",
              "      <td>...</td>\n",
              "      <td>...</td>\n",
              "      <td>...</td>\n",
              "      <td>...</td>\n",
              "      <td>...</td>\n",
              "      <td>...</td>\n",
              "      <td>...</td>\n",
              "    </tr>\n",
              "    <tr>\n",
              "      <th>10836</th>\n",
              "      <td>Sya9a Maroc - FR</td>\n",
              "      <td>FAMILY</td>\n",
              "      <td>4.5</td>\n",
              "      <td>38</td>\n",
              "      <td>53M</td>\n",
              "      <td>5,000+</td>\n",
              "      <td>Free</td>\n",
              "      <td>0</td>\n",
              "      <td>Everyone</td>\n",
              "      <td>Education</td>\n",
              "      <td>July 25, 2017</td>\n",
              "      <td>1.48</td>\n",
              "      <td>4.1 and up</td>\n",
              "    </tr>\n",
              "    <tr>\n",
              "      <th>10837</th>\n",
              "      <td>Fr. Mike Schmitz Audio Teachings</td>\n",
              "      <td>FAMILY</td>\n",
              "      <td>5.0</td>\n",
              "      <td>4</td>\n",
              "      <td>3.6M</td>\n",
              "      <td>100+</td>\n",
              "      <td>Free</td>\n",
              "      <td>0</td>\n",
              "      <td>Everyone</td>\n",
              "      <td>Education</td>\n",
              "      <td>July 6, 2018</td>\n",
              "      <td>1.0</td>\n",
              "      <td>4.1 and up</td>\n",
              "    </tr>\n",
              "    <tr>\n",
              "      <th>10838</th>\n",
              "      <td>Parkinson Exercices FR</td>\n",
              "      <td>MEDICAL</td>\n",
              "      <td>NaN</td>\n",
              "      <td>3</td>\n",
              "      <td>9.5M</td>\n",
              "      <td>1,000+</td>\n",
              "      <td>Free</td>\n",
              "      <td>0</td>\n",
              "      <td>Everyone</td>\n",
              "      <td>Medical</td>\n",
              "      <td>January 20, 2017</td>\n",
              "      <td>1.0</td>\n",
              "      <td>2.2 and up</td>\n",
              "    </tr>\n",
              "    <tr>\n",
              "      <th>10839</th>\n",
              "      <td>The SCP Foundation DB fr nn5n</td>\n",
              "      <td>BOOKS_AND_REFERENCE</td>\n",
              "      <td>4.5</td>\n",
              "      <td>114</td>\n",
              "      <td>Varies with device</td>\n",
              "      <td>1,000+</td>\n",
              "      <td>Free</td>\n",
              "      <td>0</td>\n",
              "      <td>Mature 17+</td>\n",
              "      <td>Books &amp; Reference</td>\n",
              "      <td>January 19, 2015</td>\n",
              "      <td>Varies with device</td>\n",
              "      <td>Varies with device</td>\n",
              "    </tr>\n",
              "    <tr>\n",
              "      <th>10840</th>\n",
              "      <td>iHoroscope - 2018 Daily Horoscope &amp; Astrology</td>\n",
              "      <td>LIFESTYLE</td>\n",
              "      <td>4.5</td>\n",
              "      <td>398307</td>\n",
              "      <td>19M</td>\n",
              "      <td>10,000,000+</td>\n",
              "      <td>Free</td>\n",
              "      <td>0</td>\n",
              "      <td>Everyone</td>\n",
              "      <td>Lifestyle</td>\n",
              "      <td>July 25, 2018</td>\n",
              "      <td>Varies with device</td>\n",
              "      <td>Varies with device</td>\n",
              "    </tr>\n",
              "  </tbody>\n",
              "</table>\n",
              "<p>10841 rows × 13 columns</p>\n",
              "</div>"
            ],
            "text/plain": [
              "                                                     App  ...         Android Ver\n",
              "0         Photo Editor & Candy Camera & Grid & ScrapBook  ...        4.0.3 and up\n",
              "1                                    Coloring book moana  ...        4.0.3 and up\n",
              "2      U Launcher Lite – FREE Live Cool Themes, Hide ...  ...        4.0.3 and up\n",
              "3                                  Sketch - Draw & Paint  ...          4.2 and up\n",
              "4                  Pixel Draw - Number Art Coloring Book  ...          4.4 and up\n",
              "...                                                  ...  ...                 ...\n",
              "10836                                   Sya9a Maroc - FR  ...          4.1 and up\n",
              "10837                   Fr. Mike Schmitz Audio Teachings  ...          4.1 and up\n",
              "10838                             Parkinson Exercices FR  ...          2.2 and up\n",
              "10839                      The SCP Foundation DB fr nn5n  ...  Varies with device\n",
              "10840      iHoroscope - 2018 Daily Horoscope & Astrology  ...  Varies with device\n",
              "\n",
              "[10841 rows x 13 columns]"
            ]
          },
          "execution_count": 3,
          "metadata": {},
          "output_type": "execute_result"
        }
      ],
      "source": [
        "data"
      ]
    },
    {
      "cell_type": "markdown",
      "metadata": {
        "id": "b8Xw27qqQCCh"
      },
      "source": [
        "## 處理缺失值"
      ]
    },
    {
      "cell_type": "code",
      "execution_count": null,
      "metadata": {
        "colab": {
          "base_uri": "https://localhost:8080/"
        },
        "id": "QLu6gAGxRden",
        "outputId": "cef8d13d-cd40-4046-8020-ca002de997b1"
      },
      "outputs": [
        {
          "data": {
            "text/plain": [
              "App                  0\n",
              "Category             0\n",
              "Rating            1474\n",
              "Reviews              0\n",
              "Size                 0\n",
              "Installs             0\n",
              "Type                 1\n",
              "Price                0\n",
              "Content Rating       1\n",
              "Genres               0\n",
              "Last Updated         0\n",
              "Current Ver          8\n",
              "Android Ver          3\n",
              "dtype: int64"
            ]
          },
          "execution_count": 4,
          "metadata": {},
          "output_type": "execute_result"
        }
      ],
      "source": [
        "#檢視資料是否有缺失\n",
        "data.isnull().sum()"
      ]
    },
    {
      "cell_type": "code",
      "execution_count": null,
      "metadata": {
        "colab": {
          "base_uri": "https://localhost:8080/"
        },
        "id": "cEjtvIWaLIrJ",
        "outputId": "52f24b0a-4658-4fce-afe4-48b8f5bcece0"
      },
      "outputs": [
        {
          "data": {
            "text/plain": [
              "App               0\n",
              "Category          0\n",
              "Rating            0\n",
              "Reviews           0\n",
              "Size              0\n",
              "Installs          0\n",
              "Type              0\n",
              "Price             0\n",
              "Content Rating    0\n",
              "Genres            0\n",
              "Last Updated      0\n",
              "Current Ver       0\n",
              "Android Ver       0\n",
              "dtype: int64"
            ]
          },
          "execution_count": 5,
          "metadata": {},
          "output_type": "execute_result"
        }
      ],
      "source": [
        "#整筆刪除有缺失值的資料\n",
        "data.dropna(inplace=True)\n",
        "data.isnull().sum()"
      ]
    },
    {
      "cell_type": "code",
      "execution_count": null,
      "metadata": {
        "id": "qY7hXiSwKeWI"
      },
      "outputs": [],
      "source": [
        "#重新編號\n",
        "data = data.reset_index(drop=True)"
      ]
    },
    {
      "cell_type": "markdown",
      "metadata": {
        "id": "RszTziNm6u6m"
      },
      "source": [
        "## 刪除欄位('App')"
      ]
    },
    {
      "cell_type": "code",
      "execution_count": null,
      "metadata": {
        "colab": {
          "base_uri": "https://localhost:8080/",
          "height": 204
        },
        "id": "_41hSxGu6u6m",
        "outputId": "cd6dd926-143e-45c2-9dd7-c2a5c730d5d2"
      },
      "outputs": [
        {
          "data": {
            "text/html": [
              "<div>\n",
              "<style scoped>\n",
              "    .dataframe tbody tr th:only-of-type {\n",
              "        vertical-align: middle;\n",
              "    }\n",
              "\n",
              "    .dataframe tbody tr th {\n",
              "        vertical-align: top;\n",
              "    }\n",
              "\n",
              "    .dataframe thead th {\n",
              "        text-align: right;\n",
              "    }\n",
              "</style>\n",
              "<table border=\"1\" class=\"dataframe\">\n",
              "  <thead>\n",
              "    <tr style=\"text-align: right;\">\n",
              "      <th></th>\n",
              "      <th>Category</th>\n",
              "      <th>Rating</th>\n",
              "      <th>Reviews</th>\n",
              "      <th>Size</th>\n",
              "      <th>Installs</th>\n",
              "      <th>Type</th>\n",
              "      <th>Price</th>\n",
              "      <th>Content Rating</th>\n",
              "      <th>Genres</th>\n",
              "      <th>Last Updated</th>\n",
              "      <th>Current Ver</th>\n",
              "      <th>Android Ver</th>\n",
              "    </tr>\n",
              "  </thead>\n",
              "  <tbody>\n",
              "    <tr>\n",
              "      <th>0</th>\n",
              "      <td>ART_AND_DESIGN</td>\n",
              "      <td>4.1</td>\n",
              "      <td>159</td>\n",
              "      <td>19M</td>\n",
              "      <td>10,000+</td>\n",
              "      <td>Free</td>\n",
              "      <td>0</td>\n",
              "      <td>Everyone</td>\n",
              "      <td>Art &amp; Design</td>\n",
              "      <td>January 7, 2018</td>\n",
              "      <td>1.0.0</td>\n",
              "      <td>4.0.3 and up</td>\n",
              "    </tr>\n",
              "    <tr>\n",
              "      <th>1</th>\n",
              "      <td>ART_AND_DESIGN</td>\n",
              "      <td>3.9</td>\n",
              "      <td>967</td>\n",
              "      <td>14M</td>\n",
              "      <td>500,000+</td>\n",
              "      <td>Free</td>\n",
              "      <td>0</td>\n",
              "      <td>Everyone</td>\n",
              "      <td>Art &amp; Design;Pretend Play</td>\n",
              "      <td>January 15, 2018</td>\n",
              "      <td>2.0.0</td>\n",
              "      <td>4.0.3 and up</td>\n",
              "    </tr>\n",
              "    <tr>\n",
              "      <th>2</th>\n",
              "      <td>ART_AND_DESIGN</td>\n",
              "      <td>4.7</td>\n",
              "      <td>87510</td>\n",
              "      <td>8.7M</td>\n",
              "      <td>5,000,000+</td>\n",
              "      <td>Free</td>\n",
              "      <td>0</td>\n",
              "      <td>Everyone</td>\n",
              "      <td>Art &amp; Design</td>\n",
              "      <td>August 1, 2018</td>\n",
              "      <td>1.2.4</td>\n",
              "      <td>4.0.3 and up</td>\n",
              "    </tr>\n",
              "    <tr>\n",
              "      <th>3</th>\n",
              "      <td>ART_AND_DESIGN</td>\n",
              "      <td>4.5</td>\n",
              "      <td>215644</td>\n",
              "      <td>25M</td>\n",
              "      <td>50,000,000+</td>\n",
              "      <td>Free</td>\n",
              "      <td>0</td>\n",
              "      <td>Teen</td>\n",
              "      <td>Art &amp; Design</td>\n",
              "      <td>June 8, 2018</td>\n",
              "      <td>Varies with device</td>\n",
              "      <td>4.2 and up</td>\n",
              "    </tr>\n",
              "    <tr>\n",
              "      <th>4</th>\n",
              "      <td>ART_AND_DESIGN</td>\n",
              "      <td>4.3</td>\n",
              "      <td>967</td>\n",
              "      <td>2.8M</td>\n",
              "      <td>100,000+</td>\n",
              "      <td>Free</td>\n",
              "      <td>0</td>\n",
              "      <td>Everyone</td>\n",
              "      <td>Art &amp; Design;Creativity</td>\n",
              "      <td>June 20, 2018</td>\n",
              "      <td>1.1</td>\n",
              "      <td>4.4 and up</td>\n",
              "    </tr>\n",
              "  </tbody>\n",
              "</table>\n",
              "</div>"
            ],
            "text/plain": [
              "         Category  Rating  ...         Current Ver   Android Ver\n",
              "0  ART_AND_DESIGN     4.1  ...               1.0.0  4.0.3 and up\n",
              "1  ART_AND_DESIGN     3.9  ...               2.0.0  4.0.3 and up\n",
              "2  ART_AND_DESIGN     4.7  ...               1.2.4  4.0.3 and up\n",
              "3  ART_AND_DESIGN     4.5  ...  Varies with device    4.2 and up\n",
              "4  ART_AND_DESIGN     4.3  ...                 1.1    4.4 and up\n",
              "\n",
              "[5 rows x 12 columns]"
            ]
          },
          "execution_count": 7,
          "metadata": {},
          "output_type": "execute_result"
        }
      ],
      "source": [
        "data = data.drop(labels=['App'],axis=1)  \n",
        "data.head()"
      ]
    },
    {
      "cell_type": "markdown",
      "metadata": {
        "id": "AVR0G_995MiP"
      },
      "source": [
        "## 類別型資料轉換"
      ]
    },
    {
      "cell_type": "code",
      "execution_count": null,
      "metadata": {
        "id": "9qjlG1me5MiQ"
      },
      "outputs": [],
      "source": [
        "from sklearn.preprocessing import LabelEncoder\n",
        "le = LabelEncoder()\n",
        "data['Category'] = le.fit_transform(data['Category'])\n",
        "data['Content Rating'] = le.fit_transform(data['Content Rating'])\n",
        "data['Type'] = le.fit_transform(data['Type'])\n",
        "data['Genres'] = le.fit_transform(data['Genres'])\n",
        "data['Last Updated'] = le.fit_transform(data['Last Updated'])\n",
        "data['Current Ver'] = le.fit_transform(data['Current Ver'])\n",
        "data['Android Ver'] = le.fit_transform(data['Android Ver'])"
      ]
    },
    {
      "cell_type": "code",
      "execution_count": null,
      "metadata": {
        "colab": {
          "base_uri": "https://localhost:8080/",
          "height": 419
        },
        "id": "BS_Ch3z9RJ8m",
        "outputId": "c25d2a58-6683-4135-9030-0702fab34420"
      },
      "outputs": [
        {
          "data": {
            "text/html": [
              "<div>\n",
              "<style scoped>\n",
              "    .dataframe tbody tr th:only-of-type {\n",
              "        vertical-align: middle;\n",
              "    }\n",
              "\n",
              "    .dataframe tbody tr th {\n",
              "        vertical-align: top;\n",
              "    }\n",
              "\n",
              "    .dataframe thead th {\n",
              "        text-align: right;\n",
              "    }\n",
              "</style>\n",
              "<table border=\"1\" class=\"dataframe\">\n",
              "  <thead>\n",
              "    <tr style=\"text-align: right;\">\n",
              "      <th></th>\n",
              "      <th>Category</th>\n",
              "      <th>Rating</th>\n",
              "      <th>Reviews</th>\n",
              "      <th>Size</th>\n",
              "      <th>Installs</th>\n",
              "      <th>Type</th>\n",
              "      <th>Price</th>\n",
              "      <th>Content Rating</th>\n",
              "      <th>Genres</th>\n",
              "      <th>Last Updated</th>\n",
              "      <th>Current Ver</th>\n",
              "      <th>Android Ver</th>\n",
              "    </tr>\n",
              "  </thead>\n",
              "  <tbody>\n",
              "    <tr>\n",
              "      <th>0</th>\n",
              "      <td>0</td>\n",
              "      <td>4.1</td>\n",
              "      <td>159</td>\n",
              "      <td>19M</td>\n",
              "      <td>10,000+</td>\n",
              "      <td>0</td>\n",
              "      <td>0</td>\n",
              "      <td>1</td>\n",
              "      <td>9</td>\n",
              "      <td>526</td>\n",
              "      <td>107</td>\n",
              "      <td>14</td>\n",
              "    </tr>\n",
              "    <tr>\n",
              "      <th>1</th>\n",
              "      <td>0</td>\n",
              "      <td>3.9</td>\n",
              "      <td>967</td>\n",
              "      <td>14M</td>\n",
              "      <td>500,000+</td>\n",
              "      <td>0</td>\n",
              "      <td>0</td>\n",
              "      <td>1</td>\n",
              "      <td>11</td>\n",
              "      <td>449</td>\n",
              "      <td>952</td>\n",
              "      <td>14</td>\n",
              "    </tr>\n",
              "    <tr>\n",
              "      <th>2</th>\n",
              "      <td>0</td>\n",
              "      <td>4.7</td>\n",
              "      <td>87510</td>\n",
              "      <td>8.7M</td>\n",
              "      <td>5,000,000+</td>\n",
              "      <td>0</td>\n",
              "      <td>0</td>\n",
              "      <td>1</td>\n",
              "      <td>9</td>\n",
              "      <td>106</td>\n",
              "      <td>424</td>\n",
              "      <td>14</td>\n",
              "    </tr>\n",
              "    <tr>\n",
              "      <th>3</th>\n",
              "      <td>0</td>\n",
              "      <td>4.5</td>\n",
              "      <td>215644</td>\n",
              "      <td>25M</td>\n",
              "      <td>50,000,000+</td>\n",
              "      <td>0</td>\n",
              "      <td>0</td>\n",
              "      <td>4</td>\n",
              "      <td>9</td>\n",
              "      <td>777</td>\n",
              "      <td>2582</td>\n",
              "      <td>17</td>\n",
              "    </tr>\n",
              "    <tr>\n",
              "      <th>4</th>\n",
              "      <td>0</td>\n",
              "      <td>4.3</td>\n",
              "      <td>967</td>\n",
              "      <td>2.8M</td>\n",
              "      <td>100,000+</td>\n",
              "      <td>0</td>\n",
              "      <td>0</td>\n",
              "      <td>1</td>\n",
              "      <td>10</td>\n",
              "      <td>711</td>\n",
              "      <td>250</td>\n",
              "      <td>19</td>\n",
              "    </tr>\n",
              "    <tr>\n",
              "      <th>...</th>\n",
              "      <td>...</td>\n",
              "      <td>...</td>\n",
              "      <td>...</td>\n",
              "      <td>...</td>\n",
              "      <td>...</td>\n",
              "      <td>...</td>\n",
              "      <td>...</td>\n",
              "      <td>...</td>\n",
              "      <td>...</td>\n",
              "      <td>...</td>\n",
              "      <td>...</td>\n",
              "      <td>...</td>\n",
              "    </tr>\n",
              "    <tr>\n",
              "      <th>9355</th>\n",
              "      <td>11</td>\n",
              "      <td>4.0</td>\n",
              "      <td>7</td>\n",
              "      <td>2.6M</td>\n",
              "      <td>500+</td>\n",
              "      <td>0</td>\n",
              "      <td>0</td>\n",
              "      <td>1</td>\n",
              "      <td>37</td>\n",
              "      <td>698</td>\n",
              "      <td>107</td>\n",
              "      <td>16</td>\n",
              "    </tr>\n",
              "    <tr>\n",
              "      <th>9356</th>\n",
              "      <td>11</td>\n",
              "      <td>4.5</td>\n",
              "      <td>38</td>\n",
              "      <td>53M</td>\n",
              "      <td>5,000+</td>\n",
              "      <td>0</td>\n",
              "      <td>0</td>\n",
              "      <td>1</td>\n",
              "      <td>37</td>\n",
              "      <td>605</td>\n",
              "      <td>592</td>\n",
              "      <td>16</td>\n",
              "    </tr>\n",
              "    <tr>\n",
              "      <th>9357</th>\n",
              "      <td>11</td>\n",
              "      <td>5.0</td>\n",
              "      <td>4</td>\n",
              "      <td>3.6M</td>\n",
              "      <td>100+</td>\n",
              "      <td>0</td>\n",
              "      <td>0</td>\n",
              "      <td>1</td>\n",
              "      <td>37</td>\n",
              "      <td>651</td>\n",
              "      <td>103</td>\n",
              "      <td>16</td>\n",
              "    </tr>\n",
              "    <tr>\n",
              "      <th>9358</th>\n",
              "      <td>3</td>\n",
              "      <td>4.5</td>\n",
              "      <td>114</td>\n",
              "      <td>Varies with device</td>\n",
              "      <td>1,000+</td>\n",
              "      <td>0</td>\n",
              "      <td>0</td>\n",
              "      <td>3</td>\n",
              "      <td>18</td>\n",
              "      <td>464</td>\n",
              "      <td>2582</td>\n",
              "      <td>30</td>\n",
              "    </tr>\n",
              "    <tr>\n",
              "      <th>9359</th>\n",
              "      <td>18</td>\n",
              "      <td>4.5</td>\n",
              "      <td>398307</td>\n",
              "      <td>19M</td>\n",
              "      <td>10,000,000+</td>\n",
              "      <td>0</td>\n",
              "      <td>0</td>\n",
              "      <td>1</td>\n",
              "      <td>65</td>\n",
              "      <td>606</td>\n",
              "      <td>2582</td>\n",
              "      <td>30</td>\n",
              "    </tr>\n",
              "  </tbody>\n",
              "</table>\n",
              "<p>9360 rows × 12 columns</p>\n",
              "</div>"
            ],
            "text/plain": [
              "      Category  Rating Reviews  ... Last Updated Current Ver  Android Ver\n",
              "0            0     4.1     159  ...          526         107           14\n",
              "1            0     3.9     967  ...          449         952           14\n",
              "2            0     4.7   87510  ...          106         424           14\n",
              "3            0     4.5  215644  ...          777        2582           17\n",
              "4            0     4.3     967  ...          711         250           19\n",
              "...        ...     ...     ...  ...          ...         ...          ...\n",
              "9355        11     4.0       7  ...          698         107           16\n",
              "9356        11     4.5      38  ...          605         592           16\n",
              "9357        11     5.0       4  ...          651         103           16\n",
              "9358         3     4.5     114  ...          464        2582           30\n",
              "9359        18     4.5  398307  ...          606        2582           30\n",
              "\n",
              "[9360 rows x 12 columns]"
            ]
          },
          "execution_count": 9,
          "metadata": {},
          "output_type": "execute_result"
        }
      ],
      "source": [
        "data"
      ]
    },
    {
      "cell_type": "markdown",
      "metadata": {
        "id": "YGStFCJvIPSY"
      },
      "source": [
        "## 個別欄位處理"
      ]
    },
    {
      "cell_type": "markdown",
      "metadata": {
        "id": "9xKG3p62JqoY"
      },
      "source": [
        "Size欄位處理"
      ]
    },
    {
      "cell_type": "code",
      "execution_count": null,
      "metadata": {
        "id": "6hSxEx6UA2Wd"
      },
      "outputs": [],
      "source": [
        "#分離出含有\"M\"的資料\n",
        "df_size = pd.DataFrame()\n",
        "df_size = df_size.append(data.loc[data['Size'].str.contains(\"M\")])\n",
        "data = data[~data.Size.str.contains(\"M\")]"
      ]
    },
    {
      "cell_type": "code",
      "execution_count": null,
      "metadata": {
        "colab": {
          "base_uri": "https://localhost:8080/"
        },
        "id": "6UIs86mQARgn",
        "outputId": "42ec3a5b-1df1-444d-f71f-b78d924c5f1e"
      },
      "outputs": [
        {
          "name": "stderr",
          "output_type": "stream",
          "text": [
            "/usr/local/lib/python3.7/dist-packages/ipykernel_launcher.py:2: SettingWithCopyWarning: \n",
            "A value is trying to be set on a copy of a slice from a DataFrame.\n",
            "Try using .loc[row_indexer,col_indexer] = value instead\n",
            "\n",
            "See the caveats in the documentation: https://pandas.pydata.org/pandas-docs/stable/user_guide/indexing.html#returning-a-view-versus-a-copy\n",
            "  \n"
          ]
        }
      ],
      "source": [
        "#標記Varies with device\n",
        "data['Size'] = data['Size'].replace([\"Varies with device\"], '0')\n",
        "#標記k單位\n",
        "for i in range(len(data)):\n",
        "  if data['Size'].iat[i].find(\"k\") != -1:\n",
        "    data['Size'].iat[i] = '1'"
      ]
    },
    {
      "cell_type": "code",
      "execution_count": null,
      "metadata": {
        "id": "dHzN5e5o7LjZ"
      },
      "outputs": [],
      "source": [
        "#df_size\n",
        "#把資料中的\"M\"去掉\n",
        "df_size['Size'] = df_size['Size'].map(lambda x: str(x)[:-1])\n",
        "#String轉float\n",
        "df_size['Size'] = df_size['Size'].astype('float')\n",
        "#標記1~100M, 100M~\n",
        "for i in range(len(df_size)):\n",
        "  if df_size['Size'].iat[i] < 100:\n",
        "    df_size['Size'].iat[i] = '2'\n",
        "  else:\n",
        "    df_size['Size'].iat[i] = '3'"
      ]
    },
    {
      "cell_type": "code",
      "execution_count": null,
      "metadata": {
        "id": "n1fXsFtkCL23"
      },
      "outputs": [],
      "source": [
        "#合併Dataframe\n",
        "data = pd.concat([data,df_size])\n",
        "data['Size'] = data['Size'].astype('int')"
      ]
    },
    {
      "cell_type": "markdown",
      "metadata": {
        "id": "voJVRGXhJIQc"
      },
      "source": [
        "Install欄位處理"
      ]
    },
    {
      "cell_type": "code",
      "execution_count": null,
      "metadata": {
        "id": "-F86oSdZJQZZ"
      },
      "outputs": [],
      "source": [
        "#把資料中的\"+\"去掉\n",
        "data['Installs'] = data['Installs'].map(lambda x: str(x)[:-1])\n",
        "#把資料中的\",\"去掉\n",
        "data['Installs'] = data['Installs'].str.replace(',', '')\n",
        "#String轉Int\n",
        "data['Installs'] = data['Installs'].astype('int')"
      ]
    },
    {
      "cell_type": "code",
      "execution_count": null,
      "metadata": {
        "id": "aUabcAWJH06q"
      },
      "outputs": [],
      "source": [
        "#分割成: 1 ~ 5000+, 100000+ ~ 5000000+, 10000000+ ~ 500000000+, 1000000000+\n",
        "data['Installs'] = data['Installs'].replace([1,5,10,50,100,500,1000,5000], 0)\n",
        "data['Installs'] = data['Installs'].replace([10000,50000,100000,500000,1000000,5000000], 1)\n",
        "data['Installs'] = data['Installs'].replace([10000000,50000000,100000000,500000000], 2)\n",
        "data['Installs'] = data['Installs'].replace([1000000000], 3)"
      ]
    },
    {
      "cell_type": "markdown",
      "metadata": {
        "id": "pscL93_Kjbvr"
      },
      "source": [
        "Price欄位處理"
      ]
    },
    {
      "cell_type": "code",
      "execution_count": null,
      "metadata": {
        "id": "T7oX5fUAzxm2"
      },
      "outputs": [],
      "source": [
        "#把資料中的\"$\"去掉\n",
        "data['Price'] = data['Price'].str.lstrip('$')\n",
        "#String轉float\n",
        "data['Price'] = data['Price'].astype('float')"
      ]
    },
    {
      "cell_type": "code",
      "execution_count": null,
      "metadata": {
        "colab": {
          "base_uri": "https://localhost:8080/",
          "height": 456
        },
        "id": "2Xx1CcSG5MiQ",
        "outputId": "ef2b47ce-607e-4f5b-c2cc-32de4e805971"
      },
      "outputs": [
        {
          "data": {
            "text/html": [
              "<div>\n",
              "<style scoped>\n",
              "    .dataframe tbody tr th:only-of-type {\n",
              "        vertical-align: middle;\n",
              "    }\n",
              "\n",
              "    .dataframe tbody tr th {\n",
              "        vertical-align: top;\n",
              "    }\n",
              "\n",
              "    .dataframe thead th {\n",
              "        text-align: right;\n",
              "    }\n",
              "</style>\n",
              "<table border=\"1\" class=\"dataframe\">\n",
              "  <thead>\n",
              "    <tr style=\"text-align: right;\">\n",
              "      <th></th>\n",
              "      <th>Category</th>\n",
              "      <th>Rating</th>\n",
              "      <th>Reviews</th>\n",
              "      <th>Size</th>\n",
              "      <th>Installs</th>\n",
              "      <th>Type</th>\n",
              "      <th>Price</th>\n",
              "      <th>Content Rating</th>\n",
              "      <th>Genres</th>\n",
              "      <th>Last Updated</th>\n",
              "      <th>Current Ver</th>\n",
              "      <th>Android Ver</th>\n",
              "    </tr>\n",
              "  </thead>\n",
              "  <tbody>\n",
              "    <tr>\n",
              "      <th>0</th>\n",
              "      <td>0</td>\n",
              "      <td>4.1</td>\n",
              "      <td>36639</td>\n",
              "      <td>0</td>\n",
              "      <td>1</td>\n",
              "      <td>0</td>\n",
              "      <td>0.0</td>\n",
              "      <td>1</td>\n",
              "      <td>9</td>\n",
              "      <td>561</td>\n",
              "      <td>2582</td>\n",
              "      <td>8</td>\n",
              "    </tr>\n",
              "    <tr>\n",
              "      <th>1</th>\n",
              "      <td>0</td>\n",
              "      <td>4.4</td>\n",
              "      <td>295221</td>\n",
              "      <td>0</td>\n",
              "      <td>2</td>\n",
              "      <td>0</td>\n",
              "      <td>0.0</td>\n",
              "      <td>1</td>\n",
              "      <td>9</td>\n",
              "      <td>635</td>\n",
              "      <td>2582</td>\n",
              "      <td>30</td>\n",
              "    </tr>\n",
              "    <tr>\n",
              "      <th>2</th>\n",
              "      <td>1</td>\n",
              "      <td>4.6</td>\n",
              "      <td>17057</td>\n",
              "      <td>0</td>\n",
              "      <td>1</td>\n",
              "      <td>0</td>\n",
              "      <td>0.0</td>\n",
              "      <td>1</td>\n",
              "      <td>12</td>\n",
              "      <td>635</td>\n",
              "      <td>2582</td>\n",
              "      <td>30</td>\n",
              "    </tr>\n",
              "    <tr>\n",
              "      <th>3</th>\n",
              "      <td>1</td>\n",
              "      <td>4.0</td>\n",
              "      <td>1403</td>\n",
              "      <td>1</td>\n",
              "      <td>1</td>\n",
              "      <td>0</td>\n",
              "      <td>0.0</td>\n",
              "      <td>1</td>\n",
              "      <td>12</td>\n",
              "      <td>160</td>\n",
              "      <td>127</td>\n",
              "      <td>6</td>\n",
              "    </tr>\n",
              "    <tr>\n",
              "      <th>4</th>\n",
              "      <td>1</td>\n",
              "      <td>4.3</td>\n",
              "      <td>40211</td>\n",
              "      <td>0</td>\n",
              "      <td>1</td>\n",
              "      <td>0</td>\n",
              "      <td>0.0</td>\n",
              "      <td>1</td>\n",
              "      <td>12</td>\n",
              "      <td>635</td>\n",
              "      <td>2582</td>\n",
              "      <td>30</td>\n",
              "    </tr>\n",
              "    <tr>\n",
              "      <th>...</th>\n",
              "      <td>...</td>\n",
              "      <td>...</td>\n",
              "      <td>...</td>\n",
              "      <td>...</td>\n",
              "      <td>...</td>\n",
              "      <td>...</td>\n",
              "      <td>...</td>\n",
              "      <td>...</td>\n",
              "      <td>...</td>\n",
              "      <td>...</td>\n",
              "      <td>...</td>\n",
              "      <td>...</td>\n",
              "    </tr>\n",
              "    <tr>\n",
              "      <th>9355</th>\n",
              "      <td>21</td>\n",
              "      <td>3.8</td>\n",
              "      <td>881</td>\n",
              "      <td>2</td>\n",
              "      <td>1</td>\n",
              "      <td>0</td>\n",
              "      <td>0.0</td>\n",
              "      <td>1</td>\n",
              "      <td>73</td>\n",
              "      <td>469</td>\n",
              "      <td>596</td>\n",
              "      <td>2</td>\n",
              "    </tr>\n",
              "    <tr>\n",
              "      <th>9356</th>\n",
              "      <td>11</td>\n",
              "      <td>4.0</td>\n",
              "      <td>7</td>\n",
              "      <td>2</td>\n",
              "      <td>0</td>\n",
              "      <td>0</td>\n",
              "      <td>0.0</td>\n",
              "      <td>1</td>\n",
              "      <td>37</td>\n",
              "      <td>698</td>\n",
              "      <td>107</td>\n",
              "      <td>16</td>\n",
              "    </tr>\n",
              "    <tr>\n",
              "      <th>9357</th>\n",
              "      <td>11</td>\n",
              "      <td>4.5</td>\n",
              "      <td>38</td>\n",
              "      <td>2</td>\n",
              "      <td>0</td>\n",
              "      <td>0</td>\n",
              "      <td>0.0</td>\n",
              "      <td>1</td>\n",
              "      <td>37</td>\n",
              "      <td>605</td>\n",
              "      <td>592</td>\n",
              "      <td>16</td>\n",
              "    </tr>\n",
              "    <tr>\n",
              "      <th>9358</th>\n",
              "      <td>11</td>\n",
              "      <td>5.0</td>\n",
              "      <td>4</td>\n",
              "      <td>2</td>\n",
              "      <td>0</td>\n",
              "      <td>0</td>\n",
              "      <td>0.0</td>\n",
              "      <td>1</td>\n",
              "      <td>37</td>\n",
              "      <td>651</td>\n",
              "      <td>103</td>\n",
              "      <td>16</td>\n",
              "    </tr>\n",
              "    <tr>\n",
              "      <th>9359</th>\n",
              "      <td>18</td>\n",
              "      <td>4.5</td>\n",
              "      <td>398307</td>\n",
              "      <td>2</td>\n",
              "      <td>2</td>\n",
              "      <td>0</td>\n",
              "      <td>0.0</td>\n",
              "      <td>1</td>\n",
              "      <td>65</td>\n",
              "      <td>606</td>\n",
              "      <td>2582</td>\n",
              "      <td>30</td>\n",
              "    </tr>\n",
              "  </tbody>\n",
              "</table>\n",
              "<p>9360 rows × 12 columns</p>\n",
              "</div>"
            ],
            "text/plain": [
              "      Category  Rating Reviews  ...  Last Updated  Current Ver  Android Ver\n",
              "0            0     4.1   36639  ...           561         2582            8\n",
              "1            0     4.4  295221  ...           635         2582           30\n",
              "2            1     4.6   17057  ...           635         2582           30\n",
              "3            1     4.0    1403  ...           160          127            6\n",
              "4            1     4.3   40211  ...           635         2582           30\n",
              "...        ...     ...     ...  ...           ...          ...          ...\n",
              "9355        21     3.8     881  ...           469          596            2\n",
              "9356        11     4.0       7  ...           698          107           16\n",
              "9357        11     4.5      38  ...           605          592           16\n",
              "9358        11     5.0       4  ...           651          103           16\n",
              "9359        18     4.5  398307  ...           606         2582           30\n",
              "\n",
              "[9360 rows x 12 columns]"
            ]
          },
          "execution_count": 16,
          "metadata": {},
          "output_type": "execute_result"
        }
      ],
      "source": [
        "#重新編號\n",
        "data = data.reset_index(drop=True)\n",
        "data"
      ]
    },
    {
      "cell_type": "markdown",
      "metadata": {
        "id": "ZbsUMenfIb63"
      },
      "source": [
        "## 資料標準化"
      ]
    },
    {
      "cell_type": "markdown",
      "metadata": {
        "id": "L3scRz1KI-R0"
      },
      "source": [
        "Reviews欄位標準化(z-score)"
      ]
    },
    {
      "cell_type": "code",
      "execution_count": null,
      "metadata": {
        "colab": {
          "base_uri": "https://localhost:8080/",
          "height": 456
        },
        "id": "Lg4FdwpUIfVo",
        "outputId": "90383972-672b-4c98-9ec4-3c25df5d36c6"
      },
      "outputs": [
        {
          "data": {
            "text/html": [
              "<div>\n",
              "<style scoped>\n",
              "    .dataframe tbody tr th:only-of-type {\n",
              "        vertical-align: middle;\n",
              "    }\n",
              "\n",
              "    .dataframe tbody tr th {\n",
              "        vertical-align: top;\n",
              "    }\n",
              "\n",
              "    .dataframe thead th {\n",
              "        text-align: right;\n",
              "    }\n",
              "</style>\n",
              "<table border=\"1\" class=\"dataframe\">\n",
              "  <thead>\n",
              "    <tr style=\"text-align: right;\">\n",
              "      <th></th>\n",
              "      <th>Category</th>\n",
              "      <th>Rating</th>\n",
              "      <th>Reviews</th>\n",
              "      <th>Size</th>\n",
              "      <th>Installs</th>\n",
              "      <th>Type</th>\n",
              "      <th>Price</th>\n",
              "      <th>Content Rating</th>\n",
              "      <th>Genres</th>\n",
              "      <th>Last Updated</th>\n",
              "      <th>Current Ver</th>\n",
              "      <th>Android Ver</th>\n",
              "    </tr>\n",
              "  </thead>\n",
              "  <tbody>\n",
              "    <tr>\n",
              "      <th>0</th>\n",
              "      <td>0</td>\n",
              "      <td>4.1</td>\n",
              "      <td>-0.151903</td>\n",
              "      <td>0</td>\n",
              "      <td>1</td>\n",
              "      <td>0</td>\n",
              "      <td>0.0</td>\n",
              "      <td>1</td>\n",
              "      <td>9</td>\n",
              "      <td>561</td>\n",
              "      <td>2582</td>\n",
              "      <td>8</td>\n",
              "    </tr>\n",
              "    <tr>\n",
              "      <th>1</th>\n",
              "      <td>0</td>\n",
              "      <td>4.4</td>\n",
              "      <td>-0.069683</td>\n",
              "      <td>0</td>\n",
              "      <td>2</td>\n",
              "      <td>0</td>\n",
              "      <td>0.0</td>\n",
              "      <td>1</td>\n",
              "      <td>9</td>\n",
              "      <td>635</td>\n",
              "      <td>2582</td>\n",
              "      <td>30</td>\n",
              "    </tr>\n",
              "    <tr>\n",
              "      <th>2</th>\n",
              "      <td>1</td>\n",
              "      <td>4.6</td>\n",
              "      <td>-0.158129</td>\n",
              "      <td>0</td>\n",
              "      <td>1</td>\n",
              "      <td>0</td>\n",
              "      <td>0.0</td>\n",
              "      <td>1</td>\n",
              "      <td>12</td>\n",
              "      <td>635</td>\n",
              "      <td>2582</td>\n",
              "      <td>30</td>\n",
              "    </tr>\n",
              "    <tr>\n",
              "      <th>3</th>\n",
              "      <td>1</td>\n",
              "      <td>4.0</td>\n",
              "      <td>-0.163106</td>\n",
              "      <td>1</td>\n",
              "      <td>1</td>\n",
              "      <td>0</td>\n",
              "      <td>0.0</td>\n",
              "      <td>1</td>\n",
              "      <td>12</td>\n",
              "      <td>160</td>\n",
              "      <td>127</td>\n",
              "      <td>6</td>\n",
              "    </tr>\n",
              "    <tr>\n",
              "      <th>4</th>\n",
              "      <td>1</td>\n",
              "      <td>4.3</td>\n",
              "      <td>-0.150767</td>\n",
              "      <td>0</td>\n",
              "      <td>1</td>\n",
              "      <td>0</td>\n",
              "      <td>0.0</td>\n",
              "      <td>1</td>\n",
              "      <td>12</td>\n",
              "      <td>635</td>\n",
              "      <td>2582</td>\n",
              "      <td>30</td>\n",
              "    </tr>\n",
              "    <tr>\n",
              "      <th>...</th>\n",
              "      <td>...</td>\n",
              "      <td>...</td>\n",
              "      <td>...</td>\n",
              "      <td>...</td>\n",
              "      <td>...</td>\n",
              "      <td>...</td>\n",
              "      <td>...</td>\n",
              "      <td>...</td>\n",
              "      <td>...</td>\n",
              "      <td>...</td>\n",
              "      <td>...</td>\n",
              "      <td>...</td>\n",
              "    </tr>\n",
              "    <tr>\n",
              "      <th>9355</th>\n",
              "      <td>21</td>\n",
              "      <td>3.8</td>\n",
              "      <td>-0.163272</td>\n",
              "      <td>2</td>\n",
              "      <td>1</td>\n",
              "      <td>0</td>\n",
              "      <td>0.0</td>\n",
              "      <td>1</td>\n",
              "      <td>73</td>\n",
              "      <td>469</td>\n",
              "      <td>596</td>\n",
              "      <td>2</td>\n",
              "    </tr>\n",
              "    <tr>\n",
              "      <th>9356</th>\n",
              "      <td>11</td>\n",
              "      <td>4.0</td>\n",
              "      <td>-0.163550</td>\n",
              "      <td>2</td>\n",
              "      <td>0</td>\n",
              "      <td>0</td>\n",
              "      <td>0.0</td>\n",
              "      <td>1</td>\n",
              "      <td>37</td>\n",
              "      <td>698</td>\n",
              "      <td>107</td>\n",
              "      <td>16</td>\n",
              "    </tr>\n",
              "    <tr>\n",
              "      <th>9357</th>\n",
              "      <td>11</td>\n",
              "      <td>4.5</td>\n",
              "      <td>-0.163541</td>\n",
              "      <td>2</td>\n",
              "      <td>0</td>\n",
              "      <td>0</td>\n",
              "      <td>0.0</td>\n",
              "      <td>1</td>\n",
              "      <td>37</td>\n",
              "      <td>605</td>\n",
              "      <td>592</td>\n",
              "      <td>16</td>\n",
              "    </tr>\n",
              "    <tr>\n",
              "      <th>9358</th>\n",
              "      <td>11</td>\n",
              "      <td>5.0</td>\n",
              "      <td>-0.163551</td>\n",
              "      <td>2</td>\n",
              "      <td>0</td>\n",
              "      <td>0</td>\n",
              "      <td>0.0</td>\n",
              "      <td>1</td>\n",
              "      <td>37</td>\n",
              "      <td>651</td>\n",
              "      <td>103</td>\n",
              "      <td>16</td>\n",
              "    </tr>\n",
              "    <tr>\n",
              "      <th>9359</th>\n",
              "      <td>18</td>\n",
              "      <td>4.5</td>\n",
              "      <td>-0.036906</td>\n",
              "      <td>2</td>\n",
              "      <td>2</td>\n",
              "      <td>0</td>\n",
              "      <td>0.0</td>\n",
              "      <td>1</td>\n",
              "      <td>65</td>\n",
              "      <td>606</td>\n",
              "      <td>2582</td>\n",
              "      <td>30</td>\n",
              "    </tr>\n",
              "  </tbody>\n",
              "</table>\n",
              "<p>9360 rows × 12 columns</p>\n",
              "</div>"
            ],
            "text/plain": [
              "      Category  Rating   Reviews  ...  Last Updated  Current Ver  Android Ver\n",
              "0            0     4.1 -0.151903  ...           561         2582            8\n",
              "1            0     4.4 -0.069683  ...           635         2582           30\n",
              "2            1     4.6 -0.158129  ...           635         2582           30\n",
              "3            1     4.0 -0.163106  ...           160          127            6\n",
              "4            1     4.3 -0.150767  ...           635         2582           30\n",
              "...        ...     ...       ...  ...           ...          ...          ...\n",
              "9355        21     3.8 -0.163272  ...           469          596            2\n",
              "9356        11     4.0 -0.163550  ...           698          107           16\n",
              "9357        11     4.5 -0.163541  ...           605          592           16\n",
              "9358        11     5.0 -0.163551  ...           651          103           16\n",
              "9359        18     4.5 -0.036906  ...           606         2582           30\n",
              "\n",
              "[9360 rows x 12 columns]"
            ]
          },
          "execution_count": 17,
          "metadata": {},
          "output_type": "execute_result"
        }
      ],
      "source": [
        "data['Reviews'] = data['Reviews'].astype('int')\n",
        "mean = data['Reviews'].mean()\n",
        "std = data['Reviews'].std()\n",
        "data['Reviews'] = data['Reviews'].apply(lambda x: (x-mean)/ std)\n",
        "data"
      ]
    },
    {
      "cell_type": "markdown",
      "metadata": {
        "id": "nt_VtD-iJHN7"
      },
      "source": [
        "去除離群值"
      ]
    },
    {
      "cell_type": "code",
      "execution_count": null,
      "metadata": {
        "id": "KSeOjmIzIlmU"
      },
      "outputs": [],
      "source": [
        "for i in range(len(data)):\n",
        "  if data['Reviews'].iat[i]>3:\n",
        "    data.drop(labels=i)\n",
        "data = data.reset_index(drop=True)"
      ]
    },
    {
      "cell_type": "code",
      "execution_count": null,
      "metadata": {
        "colab": {
          "base_uri": "https://localhost:8080/",
          "height": 456
        },
        "id": "G_3eXcpNLFG2",
        "outputId": "82ebff4c-d6a1-476f-e416-63844cd9075c"
      },
      "outputs": [
        {
          "data": {
            "text/html": [
              "<div>\n",
              "<style scoped>\n",
              "    .dataframe tbody tr th:only-of-type {\n",
              "        vertical-align: middle;\n",
              "    }\n",
              "\n",
              "    .dataframe tbody tr th {\n",
              "        vertical-align: top;\n",
              "    }\n",
              "\n",
              "    .dataframe thead th {\n",
              "        text-align: right;\n",
              "    }\n",
              "</style>\n",
              "<table border=\"1\" class=\"dataframe\">\n",
              "  <thead>\n",
              "    <tr style=\"text-align: right;\">\n",
              "      <th></th>\n",
              "      <th>Category</th>\n",
              "      <th>Rating</th>\n",
              "      <th>Reviews</th>\n",
              "      <th>Size</th>\n",
              "      <th>Installs</th>\n",
              "      <th>Type</th>\n",
              "      <th>Price</th>\n",
              "      <th>Content Rating</th>\n",
              "      <th>Genres</th>\n",
              "      <th>Last Updated</th>\n",
              "      <th>Current Ver</th>\n",
              "      <th>Android Ver</th>\n",
              "    </tr>\n",
              "  </thead>\n",
              "  <tbody>\n",
              "    <tr>\n",
              "      <th>0</th>\n",
              "      <td>0</td>\n",
              "      <td>4.1</td>\n",
              "      <td>-0.151903</td>\n",
              "      <td>0</td>\n",
              "      <td>1</td>\n",
              "      <td>0</td>\n",
              "      <td>0.0</td>\n",
              "      <td>1</td>\n",
              "      <td>9</td>\n",
              "      <td>561</td>\n",
              "      <td>2582</td>\n",
              "      <td>8</td>\n",
              "    </tr>\n",
              "    <tr>\n",
              "      <th>1</th>\n",
              "      <td>0</td>\n",
              "      <td>4.4</td>\n",
              "      <td>-0.069683</td>\n",
              "      <td>0</td>\n",
              "      <td>2</td>\n",
              "      <td>0</td>\n",
              "      <td>0.0</td>\n",
              "      <td>1</td>\n",
              "      <td>9</td>\n",
              "      <td>635</td>\n",
              "      <td>2582</td>\n",
              "      <td>30</td>\n",
              "    </tr>\n",
              "    <tr>\n",
              "      <th>2</th>\n",
              "      <td>1</td>\n",
              "      <td>4.6</td>\n",
              "      <td>-0.158129</td>\n",
              "      <td>0</td>\n",
              "      <td>1</td>\n",
              "      <td>0</td>\n",
              "      <td>0.0</td>\n",
              "      <td>1</td>\n",
              "      <td>12</td>\n",
              "      <td>635</td>\n",
              "      <td>2582</td>\n",
              "      <td>30</td>\n",
              "    </tr>\n",
              "    <tr>\n",
              "      <th>3</th>\n",
              "      <td>1</td>\n",
              "      <td>4.0</td>\n",
              "      <td>-0.163106</td>\n",
              "      <td>1</td>\n",
              "      <td>1</td>\n",
              "      <td>0</td>\n",
              "      <td>0.0</td>\n",
              "      <td>1</td>\n",
              "      <td>12</td>\n",
              "      <td>160</td>\n",
              "      <td>127</td>\n",
              "      <td>6</td>\n",
              "    </tr>\n",
              "    <tr>\n",
              "      <th>4</th>\n",
              "      <td>1</td>\n",
              "      <td>4.3</td>\n",
              "      <td>-0.150767</td>\n",
              "      <td>0</td>\n",
              "      <td>1</td>\n",
              "      <td>0</td>\n",
              "      <td>0.0</td>\n",
              "      <td>1</td>\n",
              "      <td>12</td>\n",
              "      <td>635</td>\n",
              "      <td>2582</td>\n",
              "      <td>30</td>\n",
              "    </tr>\n",
              "    <tr>\n",
              "      <th>...</th>\n",
              "      <td>...</td>\n",
              "      <td>...</td>\n",
              "      <td>...</td>\n",
              "      <td>...</td>\n",
              "      <td>...</td>\n",
              "      <td>...</td>\n",
              "      <td>...</td>\n",
              "      <td>...</td>\n",
              "      <td>...</td>\n",
              "      <td>...</td>\n",
              "      <td>...</td>\n",
              "      <td>...</td>\n",
              "    </tr>\n",
              "    <tr>\n",
              "      <th>9355</th>\n",
              "      <td>21</td>\n",
              "      <td>3.8</td>\n",
              "      <td>-0.163272</td>\n",
              "      <td>2</td>\n",
              "      <td>1</td>\n",
              "      <td>0</td>\n",
              "      <td>0.0</td>\n",
              "      <td>1</td>\n",
              "      <td>73</td>\n",
              "      <td>469</td>\n",
              "      <td>596</td>\n",
              "      <td>2</td>\n",
              "    </tr>\n",
              "    <tr>\n",
              "      <th>9356</th>\n",
              "      <td>11</td>\n",
              "      <td>4.0</td>\n",
              "      <td>-0.163550</td>\n",
              "      <td>2</td>\n",
              "      <td>0</td>\n",
              "      <td>0</td>\n",
              "      <td>0.0</td>\n",
              "      <td>1</td>\n",
              "      <td>37</td>\n",
              "      <td>698</td>\n",
              "      <td>107</td>\n",
              "      <td>16</td>\n",
              "    </tr>\n",
              "    <tr>\n",
              "      <th>9357</th>\n",
              "      <td>11</td>\n",
              "      <td>4.5</td>\n",
              "      <td>-0.163541</td>\n",
              "      <td>2</td>\n",
              "      <td>0</td>\n",
              "      <td>0</td>\n",
              "      <td>0.0</td>\n",
              "      <td>1</td>\n",
              "      <td>37</td>\n",
              "      <td>605</td>\n",
              "      <td>592</td>\n",
              "      <td>16</td>\n",
              "    </tr>\n",
              "    <tr>\n",
              "      <th>9358</th>\n",
              "      <td>11</td>\n",
              "      <td>5.0</td>\n",
              "      <td>-0.163551</td>\n",
              "      <td>2</td>\n",
              "      <td>0</td>\n",
              "      <td>0</td>\n",
              "      <td>0.0</td>\n",
              "      <td>1</td>\n",
              "      <td>37</td>\n",
              "      <td>651</td>\n",
              "      <td>103</td>\n",
              "      <td>16</td>\n",
              "    </tr>\n",
              "    <tr>\n",
              "      <th>9359</th>\n",
              "      <td>18</td>\n",
              "      <td>4.5</td>\n",
              "      <td>-0.036906</td>\n",
              "      <td>2</td>\n",
              "      <td>2</td>\n",
              "      <td>0</td>\n",
              "      <td>0.0</td>\n",
              "      <td>1</td>\n",
              "      <td>65</td>\n",
              "      <td>606</td>\n",
              "      <td>2582</td>\n",
              "      <td>30</td>\n",
              "    </tr>\n",
              "  </tbody>\n",
              "</table>\n",
              "<p>9360 rows × 12 columns</p>\n",
              "</div>"
            ],
            "text/plain": [
              "      Category  Rating   Reviews  ...  Last Updated  Current Ver  Android Ver\n",
              "0            0     4.1 -0.151903  ...           561         2582            8\n",
              "1            0     4.4 -0.069683  ...           635         2582           30\n",
              "2            1     4.6 -0.158129  ...           635         2582           30\n",
              "3            1     4.0 -0.163106  ...           160          127            6\n",
              "4            1     4.3 -0.150767  ...           635         2582           30\n",
              "...        ...     ...       ...  ...           ...          ...          ...\n",
              "9355        21     3.8 -0.163272  ...           469          596            2\n",
              "9356        11     4.0 -0.163550  ...           698          107           16\n",
              "9357        11     4.5 -0.163541  ...           605          592           16\n",
              "9358        11     5.0 -0.163551  ...           651          103           16\n",
              "9359        18     4.5 -0.036906  ...           606         2582           30\n",
              "\n",
              "[9360 rows x 12 columns]"
            ]
          },
          "execution_count": 19,
          "metadata": {},
          "output_type": "execute_result"
        }
      ],
      "source": [
        "data"
      ]
    },
    {
      "cell_type": "markdown",
      "metadata": {
        "id": "OcUyFUMu2RJm"
      },
      "source": [
        "## 特徵選取"
      ]
    },
    {
      "cell_type": "markdown",
      "metadata": {
        "id": "gBE9L2bG7h3-"
      },
      "source": [
        "PCA"
      ]
    },
    {
      "cell_type": "code",
      "execution_count": null,
      "metadata": {
        "id": "3LncXod02_VM"
      },
      "outputs": [],
      "source": [
        "from sklearn.preprocessing import StandardScaler\n",
        "col_names = data.columns.values\n",
        "feature = data[col_names]\n",
        "scaler = StandardScaler().fit(feature.values)\n",
        "features = scaler.transform(feature.values)\n",
        "data[col_names] = feature"
      ]
    },
    {
      "cell_type": "markdown",
      "metadata": {
        "id": "FbdZRoKPTS3y"
      },
      "source": [
        "PCA('mle')"
      ]
    },
    {
      "cell_type": "code",
      "execution_count": null,
      "metadata": {
        "colab": {
          "base_uri": "https://localhost:8080/"
        },
        "id": "jxdjSKfuTSlv",
        "outputId": "ca8bb384-0bdf-4f5c-9afc-bf9d23c3d905"
      },
      "outputs": [
        {
          "name": "stdout",
          "output_type": "stream",
          "text": [
            "Original number of features: 12\n",
            "Reduce number of features: 11\n"
          ]
        }
      ],
      "source": [
        "from sklearn.decomposition import PCA\n",
        "pca = PCA(n_components='mle', whiten=True)\n",
        "features_pca = pca.fit_transform(features)\n",
        "print(\"Original number of features:\", features.shape[1])\n",
        "print(\"Reduce number of features:\", features_pca.shape[1])"
      ]
    },
    {
      "cell_type": "markdown",
      "metadata": {
        "id": "1yG5PFtm__vj"
      },
      "source": [
        "PCA(0.99)"
      ]
    },
    {
      "cell_type": "code",
      "execution_count": null,
      "metadata": {
        "colab": {
          "base_uri": "https://localhost:8080/"
        },
        "id": "PXSXpNJt_9d2",
        "outputId": "d137382d-0172-4d69-df4e-03027a3cbdfa"
      },
      "outputs": [
        {
          "name": "stdout",
          "output_type": "stream",
          "text": [
            "Original number of features: 12\n",
            "Reduce number of features: 12\n"
          ]
        }
      ],
      "source": [
        "from sklearn.decomposition import PCA\n",
        "pca = PCA(n_components=0.99, whiten=True)\n",
        "features_pca = pca.fit_transform(features)\n",
        "print(\"Original number of features:\", features.shape[1])\n",
        "print(\"Reduce number of features:\", features_pca.shape[1])"
      ]
    },
    {
      "cell_type": "markdown",
      "metadata": {
        "id": "Dik6euJhS-oX"
      },
      "source": [
        "PCA(0.97)"
      ]
    },
    {
      "cell_type": "code",
      "execution_count": null,
      "metadata": {
        "colab": {
          "base_uri": "https://localhost:8080/"
        },
        "id": "z09CSjEYF7SF",
        "outputId": "4b902967-4d9d-48ad-af25-1bea208793b0"
      },
      "outputs": [
        {
          "name": "stdout",
          "output_type": "stream",
          "text": [
            "Original number of features: 12\n",
            "Reduce number of features: 11\n"
          ]
        }
      ],
      "source": [
        "from sklearn.decomposition import PCA\n",
        "pca = PCA(n_components=0.97, whiten=True)\n",
        "features_pca = pca.fit_transform(features)\n",
        "print(\"Original number of features:\", features.shape[1])\n",
        "print(\"Reduce number of features:\", features_pca.shape[1])"
      ]
    },
    {
      "cell_type": "markdown",
      "metadata": {
        "id": "E0X7q_wlTGnS"
      },
      "source": [
        "PCA(0.95)"
      ]
    },
    {
      "cell_type": "code",
      "execution_count": null,
      "metadata": {
        "colab": {
          "base_uri": "https://localhost:8080/"
        },
        "id": "3vbDaZoPTPwA",
        "outputId": "59803bb6-cb0a-4b59-e87e-51b0960d61be"
      },
      "outputs": [
        {
          "name": "stdout",
          "output_type": "stream",
          "text": [
            "Original number of features: 12\n",
            "Reduce number of features: 10\n"
          ]
        }
      ],
      "source": [
        "from sklearn.decomposition import PCA\n",
        "pca = PCA(n_components=0.95, whiten=True)\n",
        "features_pca = pca.fit_transform(features)\n",
        "print(\"Original number of features:\", features.shape[1])\n",
        "print(\"Reduce number of features:\", features_pca.shape[1])"
      ]
    },
    {
      "cell_type": "markdown",
      "metadata": {
        "id": "xkqgnH1B476l"
      },
      "source": [
        "info_gain, gain_ratio"
      ]
    },
    {
      "cell_type": "code",
      "execution_count": null,
      "metadata": {
        "colab": {
          "base_uri": "https://localhost:8080/"
        },
        "id": "66uke9Kb476m",
        "outputId": "922b7dc5-045e-4cfc-eb0b-53ffb5ed11a3"
      },
      "outputs": [
        {
          "name": "stdout",
          "output_type": "stream",
          "text": [
            "Collecting info_gain\n",
            "  Downloading info_gain-1.0.1-py3-none-any.whl (3.3 kB)\n",
            "Installing collected packages: info-gain\n",
            "Successfully installed info-gain-1.0.1\n"
          ]
        }
      ],
      "source": [
        "!pip install info_gain"
      ]
    },
    {
      "cell_type": "code",
      "execution_count": null,
      "metadata": {
        "id": "EDa3G8hROav0"
      },
      "outputs": [],
      "source": [
        "X=data.drop(['Installs'],axis=1)\n",
        "y=data.Installs"
      ]
    },
    {
      "cell_type": "code",
      "execution_count": null,
      "metadata": {
        "colab": {
          "base_uri": "https://localhost:8080/"
        },
        "id": "otR5sjhc476m",
        "outputId": "71000d9a-a030-4053-84ea-07a62e1d55e6"
      },
      "outputs": [
        {
          "name": "stdout",
          "output_type": "stream",
          "text": [
            "info_gain:\n",
            "('Content Rating', 0.011986278590529031)\n",
            "('Type', 0.03125003069163365)\n",
            "('Price', 0.03950073079959038)\n",
            "('Size', 0.06752046082025887)\n",
            "('Android Ver', 0.06798339098085338)\n",
            "('Category', 0.08156999152876576)\n",
            "('Genres', 0.09763570952206502)\n",
            "('Rating', 0.11770738188594532)\n",
            "('Last Updated', 0.22921669528799438)\n",
            "('Current Ver', 0.4669692233902234)\n",
            "('Reviews', 0.8998084149921901)\n",
            "('Installs', 0.991812584439349)\n",
            "\n",
            "gain_ratio:\n",
            "('Content Rating', 0.008376839879610638)\n",
            "('Type', 0.021839681212113334)\n",
            "('Price', 0.02760584067328678)\n",
            "('Size', 0.04718796452267911)\n",
            "('Android Ver', 0.04751149211311963)\n",
            "('Category', 0.057006747578650145)\n",
            "('Genres', 0.0682345816527877)\n",
            "('Rating', 0.08226205350223104)\n",
            "('Last Updated', 0.16019246838449167)\n",
            "('Current Ver', 0.32635036667151107)\n",
            "('Reviews', 0.6288483083207843)\n",
            "('Installs', 0.6931471805599453)\n"
          ]
        }
      ],
      "source": [
        "from info_gain import info_gain\n",
        "import pandas as pd\n",
        "print('info_gain:')\n",
        "infogain={}\n",
        "for i in data.columns:\n",
        "  ig = info_gain.info_gain(data[i], data['Installs'])\n",
        "  infogain[i]=ig\n",
        "a=sorted(infogain.items(),key=lambda item:item[1])\n",
        "for i in a:\n",
        "  print(i)\n",
        "print('\\ngain_ratio:')\n",
        "gainratio={}\n",
        "for i in data.columns:\n",
        "  igr = info_gain.info_gain_ratio(data[i], data['Installs'])\n",
        "  gainratio[i]=igr\n",
        "b=sorted(gainratio.items(),key=lambda item:item[1])\n",
        "for i in b:\n",
        "  print(i)\n",
        "#要繪製橫的長條圖，做拿pca結果的降維數量減少infogain及gainratio的最低特徵"
      ]
    },
    {
      "cell_type": "code",
      "execution_count": null,
      "metadata": {
        "colab": {
          "base_uri": "https://localhost:8080/",
          "height": 281
        },
        "id": "R4gsegAj476m",
        "outputId": "1f6fd205-0f9f-4013-b33d-4d707f98df88"
      },
      "outputs": [
        {
          "data": {
            "image/png": "[encoded data removed]",
            "text/plain": [
              "<Figure size 432x288 with 1 Axes>"
            ]
          },
          "metadata": {
            "needs_background": "light"
          },
          "output_type": "display_data"
        }
      ],
      "source": [
        "import matplotlib.pyplot as plt\n",
        "plt.barh(range(len(infogain)),infogain.values())\n",
        "plt.yticks(range(len(infogain)),infogain.keys())\n",
        "plt.title('InfoGain')\n",
        "plt.show()"
      ]
    },
    {
      "cell_type": "code",
      "execution_count": null,
      "metadata": {
        "colab": {
          "base_uri": "https://localhost:8080/",
          "height": 281
        },
        "id": "AVZ47e8T476m",
        "outputId": "741c7480-3fb8-4026-ec16-0c26bac452c1"
      },
      "outputs": [
        {
          "data": {
            "image/png": "[encoded data removed]",
            "text/plain": [
              "<Figure size 432x288 with 1 Axes>"
            ]
          },
          "metadata": {
            "needs_background": "light"
          },
          "output_type": "display_data"
        }
      ],
      "source": [
        "plt.barh(range(len(gainratio)),gainratio.values())\n",
        "plt.yticks(range(len(gainratio)),gainratio.keys())\n",
        "plt.title('GainRatio')\n",
        "plt.show()"
      ]
    },
    {
      "cell_type": "markdown",
      "metadata": {
        "id": "wnHeVQaFLQB2"
      },
      "source": [
        "刪除欄位"
      ]
    },
    {
      "cell_type": "code",
      "execution_count": null,
      "metadata": {
        "id": "oGnIwEgMCTzJ"
      },
      "outputs": [],
      "source": [
        "data = data.drop(labels=['Type', 'Content Rating'],axis=1)  "
      ]
    },
    {
      "cell_type": "code",
      "execution_count": null,
      "metadata": {
        "colab": {
          "base_uri": "https://localhost:8080/",
          "height": 456
        },
        "id": "ULleA-WDDFY2",
        "outputId": "3d0fb6be-637d-4e40-ce40-2f5f8344be36"
      },
      "outputs": [
        {
          "data": {
            "text/html": [
              "<div>\n",
              "<style scoped>\n",
              "    .dataframe tbody tr th:only-of-type {\n",
              "        vertical-align: middle;\n",
              "    }\n",
              "\n",
              "    .dataframe tbody tr th {\n",
              "        vertical-align: top;\n",
              "    }\n",
              "\n",
              "    .dataframe thead th {\n",
              "        text-align: right;\n",
              "    }\n",
              "</style>\n",
              "<table border=\"1\" class=\"dataframe\">\n",
              "  <thead>\n",
              "    <tr style=\"text-align: right;\">\n",
              "      <th></th>\n",
              "      <th>Category</th>\n",
              "      <th>Rating</th>\n",
              "      <th>Reviews</th>\n",
              "      <th>Size</th>\n",
              "      <th>Installs</th>\n",
              "      <th>Price</th>\n",
              "      <th>Genres</th>\n",
              "      <th>Last Updated</th>\n",
              "      <th>Current Ver</th>\n",
              "      <th>Android Ver</th>\n",
              "    </tr>\n",
              "  </thead>\n",
              "  <tbody>\n",
              "    <tr>\n",
              "      <th>0</th>\n",
              "      <td>0</td>\n",
              "      <td>4.1</td>\n",
              "      <td>-0.151903</td>\n",
              "      <td>0</td>\n",
              "      <td>1</td>\n",
              "      <td>0.0</td>\n",
              "      <td>9</td>\n",
              "      <td>561</td>\n",
              "      <td>2582</td>\n",
              "      <td>8</td>\n",
              "    </tr>\n",
              "    <tr>\n",
              "      <th>1</th>\n",
              "      <td>0</td>\n",
              "      <td>4.4</td>\n",
              "      <td>-0.069683</td>\n",
              "      <td>0</td>\n",
              "      <td>2</td>\n",
              "      <td>0.0</td>\n",
              "      <td>9</td>\n",
              "      <td>635</td>\n",
              "      <td>2582</td>\n",
              "      <td>30</td>\n",
              "    </tr>\n",
              "    <tr>\n",
              "      <th>2</th>\n",
              "      <td>1</td>\n",
              "      <td>4.6</td>\n",
              "      <td>-0.158129</td>\n",
              "      <td>0</td>\n",
              "      <td>1</td>\n",
              "      <td>0.0</td>\n",
              "      <td>12</td>\n",
              "      <td>635</td>\n",
              "      <td>2582</td>\n",
              "      <td>30</td>\n",
              "    </tr>\n",
              "    <tr>\n",
              "      <th>3</th>\n",
              "      <td>1</td>\n",
              "      <td>4.0</td>\n",
              "      <td>-0.163106</td>\n",
              "      <td>1</td>\n",
              "      <td>1</td>\n",
              "      <td>0.0</td>\n",
              "      <td>12</td>\n",
              "      <td>160</td>\n",
              "      <td>127</td>\n",
              "      <td>6</td>\n",
              "    </tr>\n",
              "    <tr>\n",
              "      <th>4</th>\n",
              "      <td>1</td>\n",
              "      <td>4.3</td>\n",
              "      <td>-0.150767</td>\n",
              "      <td>0</td>\n",
              "      <td>1</td>\n",
              "      <td>0.0</td>\n",
              "      <td>12</td>\n",
              "      <td>635</td>\n",
              "      <td>2582</td>\n",
              "      <td>30</td>\n",
              "    </tr>\n",
              "    <tr>\n",
              "      <th>...</th>\n",
              "      <td>...</td>\n",
              "      <td>...</td>\n",
              "      <td>...</td>\n",
              "      <td>...</td>\n",
              "      <td>...</td>\n",
              "      <td>...</td>\n",
              "      <td>...</td>\n",
              "      <td>...</td>\n",
              "      <td>...</td>\n",
              "      <td>...</td>\n",
              "    </tr>\n",
              "    <tr>\n",
              "      <th>9355</th>\n",
              "      <td>21</td>\n",
              "      <td>3.8</td>\n",
              "      <td>-0.163272</td>\n",
              "      <td>2</td>\n",
              "      <td>1</td>\n",
              "      <td>0.0</td>\n",
              "      <td>73</td>\n",
              "      <td>469</td>\n",
              "      <td>596</td>\n",
              "      <td>2</td>\n",
              "    </tr>\n",
              "    <tr>\n",
              "      <th>9356</th>\n",
              "      <td>11</td>\n",
              "      <td>4.0</td>\n",
              "      <td>-0.163550</td>\n",
              "      <td>2</td>\n",
              "      <td>0</td>\n",
              "      <td>0.0</td>\n",
              "      <td>37</td>\n",
              "      <td>698</td>\n",
              "      <td>107</td>\n",
              "      <td>16</td>\n",
              "    </tr>\n",
              "    <tr>\n",
              "      <th>9357</th>\n",
              "      <td>11</td>\n",
              "      <td>4.5</td>\n",
              "      <td>-0.163541</td>\n",
              "      <td>2</td>\n",
              "      <td>0</td>\n",
              "      <td>0.0</td>\n",
              "      <td>37</td>\n",
              "      <td>605</td>\n",
              "      <td>592</td>\n",
              "      <td>16</td>\n",
              "    </tr>\n",
              "    <tr>\n",
              "      <th>9358</th>\n",
              "      <td>11</td>\n",
              "      <td>5.0</td>\n",
              "      <td>-0.163551</td>\n",
              "      <td>2</td>\n",
              "      <td>0</td>\n",
              "      <td>0.0</td>\n",
              "      <td>37</td>\n",
              "      <td>651</td>\n",
              "      <td>103</td>\n",
              "      <td>16</td>\n",
              "    </tr>\n",
              "    <tr>\n",
              "      <th>9359</th>\n",
              "      <td>18</td>\n",
              "      <td>4.5</td>\n",
              "      <td>-0.036906</td>\n",
              "      <td>2</td>\n",
              "      <td>2</td>\n",
              "      <td>0.0</td>\n",
              "      <td>65</td>\n",
              "      <td>606</td>\n",
              "      <td>2582</td>\n",
              "      <td>30</td>\n",
              "    </tr>\n",
              "  </tbody>\n",
              "</table>\n",
              "<p>9360 rows × 10 columns</p>\n",
              "</div>"
            ],
            "text/plain": [
              "      Category  Rating   Reviews  ...  Last Updated  Current Ver  Android Ver\n",
              "0            0     4.1 -0.151903  ...           561         2582            8\n",
              "1            0     4.4 -0.069683  ...           635         2582           30\n",
              "2            1     4.6 -0.158129  ...           635         2582           30\n",
              "3            1     4.0 -0.163106  ...           160          127            6\n",
              "4            1     4.3 -0.150767  ...           635         2582           30\n",
              "...        ...     ...       ...  ...           ...          ...          ...\n",
              "9355        21     3.8 -0.163272  ...           469          596            2\n",
              "9356        11     4.0 -0.163550  ...           698          107           16\n",
              "9357        11     4.5 -0.163541  ...           605          592           16\n",
              "9358        11     5.0 -0.163551  ...           651          103           16\n",
              "9359        18     4.5 -0.036906  ...           606         2582           30\n",
              "\n",
              "[9360 rows x 10 columns]"
            ]
          },
          "execution_count": 30,
          "metadata": {},
          "output_type": "execute_result"
        }
      ],
      "source": [
        "data"
      ]
    },
    {
      "cell_type": "markdown",
      "metadata": {
        "id": "R78ubjZGDOGs"
      },
      "source": [
        "# 資料分析"
      ]
    },
    {
      "cell_type": "markdown",
      "metadata": {
        "id": "6__JUWYxxpFm"
      },
      "source": [
        "## 四分位圖"
      ]
    },
    {
      "cell_type": "code",
      "execution_count": null,
      "metadata": {
        "colab": {
          "base_uri": "https://localhost:8080/",
          "height": 298
        },
        "id": "6RTQBvfEnEXR",
        "outputId": "4f8f0864-f588-4b58-8b49-65df41347ac3"
      },
      "outputs": [
        {
          "data": {
            "text/plain": [
              "<function matplotlib.pyplot.show>"
            ]
          },
          "execution_count": 31,
          "metadata": {},
          "output_type": "execute_result"
        },
        {
          "data": {
            "image/png": "[encoded data removed]",
            "text/plain": [
              "<Figure size 432x288 with 1 Axes>"
            ]
          },
          "metadata": {
            "needs_background": "light"
          },
          "output_type": "display_data"
        }
      ],
      "source": [
        "import matplotlib.pyplot as plt\n",
        "data['Reviews'] = data['Reviews'].astype('int')\n",
        "data['Reviews'].plot.box(title = \"jjj\")\n",
        "plt.show"
      ]
    },
    {
      "cell_type": "markdown",
      "metadata": {
        "id": "SiLoP1vZp0Nn"
      },
      "source": [
        "## 直方圖"
      ]
    },
    {
      "cell_type": "code",
      "execution_count": null,
      "metadata": {
        "colab": {
          "base_uri": "https://localhost:8080/",
          "height": 828
        },
        "id": "5F_6OEJSyie-",
        "outputId": "3cfded3d-bb3b-4b73-d37e-56c0fd03fa36"
      },
      "outputs": [
        {
          "data": {
            "text/plain": [
              "array([[<matplotlib.axes._subplots.AxesSubplot object at 0x7fc952040690>,\n",
              "        <matplotlib.axes._subplots.AxesSubplot object at 0x7fc951fa8910>,\n",
              "        <matplotlib.axes._subplots.AxesSubplot object at 0x7fc951f5bf10>],\n",
              "       [<matplotlib.axes._subplots.AxesSubplot object at 0x7fc951f1d550>,\n",
              "        <matplotlib.axes._subplots.AxesSubplot object at 0x7fc951ed5b50>,\n",
              "        <matplotlib.axes._subplots.AxesSubplot object at 0x7fc951e95ed0>],\n",
              "       [<matplotlib.axes._subplots.AxesSubplot object at 0x7fc951e4a790>,\n",
              "        <matplotlib.axes._subplots.AxesSubplot object at 0x7fc951e03d90>,\n",
              "        <matplotlib.axes._subplots.AxesSubplot object at 0x7fc951e0eb50>],\n",
              "       [<matplotlib.axes._subplots.AxesSubplot object at 0x7fc951dce210>,\n",
              "        <matplotlib.axes._subplots.AxesSubplot object at 0x7fc951db3fd0>,\n",
              "        <matplotlib.axes._subplots.AxesSubplot object at 0x7fc951d76610>]],\n",
              "      dtype=object)"
            ]
          },
          "execution_count": 32,
          "metadata": {},
          "output_type": "execute_result"
        },
        {
          "data": {
            "image/png": "[encoded data removed]",
            "text/plain": [
              "<Figure size 720x720 with 12 Axes>"
            ]
          },
          "metadata": {
            "needs_background": "light"
          },
          "output_type": "display_data"
        }
      ],
      "source": [
        "data.hist(figsize=(10,10))"
      ]
    },
    {
      "cell_type": "markdown",
      "metadata": {
        "id": "p7i8iFte_x6O"
      },
      "source": [
        "## 熱圖"
      ]
    },
    {
      "cell_type": "code",
      "execution_count": null,
      "metadata": {
        "colab": {
          "base_uri": "https://localhost:8080/",
          "height": 547
        },
        "id": "7tfIVoO9r1or",
        "outputId": "819de31d-15a5-4db4-f4f1-f09cc98588e7"
      },
      "outputs": [
        {
          "name": "stdout",
          "output_type": "stream",
          "text": [
            "              Category    Rating  ...  Current Ver  Android Ver\n",
            "Category      1.000000 -0.035154  ...     0.117169     0.100259\n",
            "Rating       -0.035154  1.000000  ...     0.051062     0.076049\n",
            "Reviews      -0.003838  0.044256  ...     0.076003     0.094746\n",
            "Size         -0.077393 -0.061234  ...    -0.547988    -0.628218\n",
            "Installs      0.050867  0.116638  ...     0.360629     0.283706\n",
            "Price        -0.012920 -0.021919  ...    -0.038008    -0.011531\n",
            "Genres        0.775995 -0.046871  ...     0.116137     0.106494\n",
            "Last Updated -0.034423 -0.075401  ...    -0.126489    -0.133867\n",
            "Current Ver   0.117169  0.051062  ...     1.000000     0.543889\n",
            "Android Ver   0.100259  0.076049  ...     0.543889     1.000000\n",
            "\n",
            "[10 rows x 10 columns]\n"
          ]
        },
        {
          "data": {
            "image/png": "[encoded data removed]",
            "text/plain": [
              "<Figure size 432x288 with 2 Axes>"
            ]
          },
          "metadata": {
            "needs_background": "light"
          },
          "output_type": "display_data"
        }
      ],
      "source": [
        "import seaborn as sbn\n",
        "cor = data.corr()\n",
        "print(cor)\n",
        "_ = sbn.heatmap(cor)"
      ]
    },
    {
      "cell_type": "markdown",
      "metadata": {
        "id": "xB9UHfbhDQ-V"
      },
      "source": [
        "# 資料分割"
      ]
    },
    {
      "cell_type": "code",
      "execution_count": null,
      "metadata": {
        "colab": {
          "base_uri": "https://localhost:8080/"
        },
        "id": "9aS8gtAFDQcF",
        "outputId": "991c13b5-7f64-4734-bc4d-7bfa67c19555"
      },
      "outputs": [
        {
          "name": "stdout",
          "output_type": "stream",
          "text": [
            "[      Category  Rating  Reviews  ...  Last Updated  Current Ver  Android Ver\n",
            "3339        11     4.5        0  ...           976          951           12\n",
            "1253        11     4.2        0  ...           740         1013           16\n",
            "2419         8     4.6        0  ...           271         2178           12\n",
            "6377         5     4.8        0  ...           621          511           16\n",
            "2182         6     4.2        0  ...           360          951            9\n",
            "...        ...     ...      ...  ...           ...          ...          ...\n",
            "350         15     4.7        0  ...           748         1640           23\n",
            "79           6     4.3        3  ...           578         2582           30\n",
            "8039        28     4.1        0  ...           348          225            5\n",
            "6936        26     4.0        0  ...           592         2398           16\n",
            "5640        21     4.7        0  ...           736         1793           16\n",
            "\n",
            "[6271 rows x 9 columns],       Category  Rating  Reviews  ...  Last Updated  Current Ver  Android Ver\n",
            "343         15     4.8        0  ...           175         2582           12\n",
            "155          7     4.2        0  ...           529          107           12\n",
            "5340         4     1.7        0  ...          1170          103           16\n",
            "3327        11     4.4        0  ...           654          127           14\n",
            "1519        23     4.2        0  ...           998          127            5\n",
            "...        ...     ...      ...  ...           ...          ...          ...\n",
            "4955        25     4.0        0  ...           317          742           16\n",
            "403         15     4.2        0  ...           640         2582           30\n",
            "5241        14     4.3        0  ...           736         1651           12\n",
            "5382        32     4.5        0  ...           730          428           16\n",
            "7882        11     4.1        0  ...           113          127            9\n",
            "\n",
            "[3089 rows x 9 columns], 3339    1\n",
            "1253    1\n",
            "2419    1\n",
            "6377    1\n",
            "2182    1\n",
            "       ..\n",
            "350     1\n",
            "79      2\n",
            "8039    0\n",
            "6936    1\n",
            "5640    1\n",
            "Name: Installs, Length: 6271, dtype: int64, 343     2\n",
            "155     1\n",
            "5340    1\n",
            "3327    1\n",
            "1519    0\n",
            "       ..\n",
            "4955    1\n",
            "403     1\n",
            "5241    2\n",
            "5382    1\n",
            "7882    1\n",
            "Name: Installs, Length: 3089, dtype: int64]\n"
          ]
        }
      ],
      "source": [
        "from sklearn.model_selection import train_test_split\n",
        "X=data.drop(['Installs'],axis=1)\n",
        "y=data.Installs\n",
        "\n",
        "X_train,X_test,y_train,y_test=train_test_split(X,y,test_size=0.33,random_state=100)\n",
        "list1=[X_train,X_test,y_train,y_test]\n",
        "print(list1)"
      ]
    },
    {
      "cell_type": "markdown",
      "metadata": {
        "id": "DV-we4gp41y7"
      },
      "source": [
        "#模型"
      ]
    },
    {
      "cell_type": "markdown",
      "metadata": {
        "id": "36NprB575XoW"
      },
      "source": [
        "## Decision Tree"
      ]
    },
    {
      "cell_type": "code",
      "execution_count": null,
      "metadata": {
        "colab": {
          "base_uri": "https://localhost:8080/"
        },
        "id": "sNElEShJ43kb",
        "outputId": "47a07400-5347-4a95-a9fe-dccb36e4a145"
      },
      "outputs": [
        {
          "name": "stdout",
          "output_type": "stream",
          "text": [
            "              precision    recall  f1-score   support\n",
            "\n",
            "           0       0.49      0.51      0.50       589\n",
            "           1       0.74      0.70      0.72      1839\n",
            "           2       0.61      0.67      0.64       648\n",
            "           3       0.71      0.92      0.80        13\n",
            "\n",
            "    accuracy                           0.66      3089\n",
            "   macro avg       0.64      0.70      0.67      3089\n",
            "weighted avg       0.67      0.66      0.66      3089\n",
            "\n"
          ]
        },
        {
          "data": {
            "text/plain": [
              "array([[ 301,  257,   31,    0],\n",
              "       [ 292, 1292,  252,    3],\n",
              "       [  20,  190,  436,    2],\n",
              "       [   0,    1,    0,   12]])"
            ]
          },
          "execution_count": 35,
          "metadata": {},
          "output_type": "execute_result"
        }
      ],
      "source": [
        "from sklearn import model_selection, tree, metrics\n",
        "dtc = tree.DecisionTreeClassifier()\n",
        "dtc.fit(X_train, y_train)\n",
        "print(metrics.classification_report(y_true=y_test, y_pred=dtc.predict(X_test)))\n",
        "metrics.confusion_matrix(y_true=y_test, y_pred=dtc.predict(X_test))"
      ]
    },
    {
      "cell_type": "code",
      "execution_count": null,
      "metadata": {
        "colab": {
          "base_uri": "https://localhost:8080/",
          "height": 293
        },
        "id": "L2elUgAzvhBs",
        "outputId": "ada794c7-a4f5-458b-8ff1-732cb8c933ae"
      },
      "outputs": [
        {
          "data": {
            "image/png": "[encoded data removed]",
            "text/plain": [
              "<IPython.core.display.Image object>"
            ]
          },
          "execution_count": 36,
          "metadata": {},
          "output_type": "execute_result"
        }
      ],
      "source": [
        "import pydotplus\n",
        "from IPython.display import Image\n",
        "\n",
        "feature_names = ['Category', 'Rating', 'Reviews', 'Size', 'Price', 'Genres', 'Last Updated', 'Current Ver', 'Android Ver']\n",
        "traget_name = ['0','1','2','3']\n",
        "dot_data = tree.export_graphviz(dtc, out_file=None, rounded=True, special_characters=True, feature_names=feature_names, class_names=traget_name, max_depth=3)\n",
        "graph = pydotplus.graph_from_dot_data(dot_data)\n",
        "Image(graph.create_png())"
      ]
    },
    {
      "cell_type": "code",
      "execution_count": null,
      "metadata": {
        "id": "jCs9fIL65cGN"
      },
      "outputs": [],
      "source": [
        "tree.export_graphviz(dtc, \"tree.dot\")\n",
        "!dot -T svg tree.dot -o gps_tree.svg"
      ]
    },
    {
      "cell_type": "markdown",
      "metadata": {
        "id": "bcRRntyd4H-u"
      },
      "source": [
        "## Random Forest"
      ]
    },
    {
      "cell_type": "code",
      "execution_count": null,
      "metadata": {
        "colab": {
          "base_uri": "https://localhost:8080/"
        },
        "id": "FgayAM5L4Gtr",
        "outputId": "03e266cf-195e-4101-d12b-cb1bd0c71e47"
      },
      "outputs": [
        {
          "name": "stdout",
          "output_type": "stream",
          "text": [
            "[[ 300  275   14    0]\n",
            " [ 227 1458  154    0]\n",
            " [  11  220  412    5]\n",
            " [   0    1    0   12]]\n",
            "              precision    recall  f1-score   support\n",
            "\n",
            "           0       0.56      0.51      0.53       589\n",
            "           1       0.75      0.79      0.77      1839\n",
            "           2       0.71      0.64      0.67       648\n",
            "           3       0.71      0.92      0.80        13\n",
            "\n",
            "    accuracy                           0.71      3089\n",
            "   macro avg       0.68      0.72      0.69      3089\n",
            "weighted avg       0.70      0.71      0.70      3089\n",
            "\n"
          ]
        }
      ],
      "source": [
        "from sklearn.ensemble import RandomForestClassifier\n",
        "from sklearn.metrics import roc_curve,roc_auc_score,auc,accuracy_score,confusion_matrix,classification_report\n",
        "rfc=RandomForestClassifier(n_estimators=5)\n",
        "rfc.fit(X_train,y_train)\n",
        "rfc_pred=rfc.predict(X_test)\n",
        "print(confusion_matrix(y_test,rfc_pred))\n",
        "print(classification_report(y_test,rfc_pred))"
      ]
    },
    {
      "cell_type": "code",
      "execution_count": null,
      "metadata": {
        "id": "uzOYl5WrFwNs"
      },
      "outputs": [],
      "source": [
        "imp=rfc.feature_importances_"
      ]
    },
    {
      "cell_type": "code",
      "execution_count": null,
      "metadata": {
        "colab": {
          "base_uri": "https://localhost:8080/",
          "height": 295
        },
        "id": "CMIrms4SFzwG",
        "outputId": "4d8d805c-e267-4c4c-fc55-6914c2b0c411"
      },
      "outputs": [
        {
          "data": {
            "image/png": "[encoded data removed]",
            "text/plain": [
              "<Figure size 432x288 with 1 Axes>"
            ]
          },
          "metadata": {
            "needs_background": "light"
          },
          "output_type": "display_data"
        }
      ],
      "source": [
        "imp\n",
        "names=data.columns\n",
        "zip(imp,names)\n",
        "imp, names= zip(*sorted(zip(imp,names)))\n",
        "plt.barh(range(len(names)),imp,align='center')\n",
        "plt.yticks(range(len(names)),names)\n",
        "plt.xlabel('Importance of Features')\n",
        "plt.ylabel('Features')\n",
        "plt.title('Importance of Each Feature')\n",
        "plt.show()"
      ]
    },
    {
      "cell_type": "code",
      "execution_count": null,
      "metadata": {
        "colab": {
          "base_uri": "https://localhost:8080/",
          "height": 279
        },
        "id": "HVDPg-24IMKl",
        "outputId": "cc0a65cc-d683-4d5c-84f4-383cd0835ff6"
      },
      "outputs": [
        {
          "data": {
            "image/png": "[encoded data removed]",
            "text/plain": [
              "<Figure size 432x288 with 1 Axes>"
            ]
          },
          "metadata": {
            "needs_background": "light"
          },
          "output_type": "display_data"
        }
      ],
      "source": [
        "plt.scatter(data[\"Rating\"],data[\"Installs\"])\n",
        "plt.xlabel(\"Rating\") #X軸標簽\n",
        "plt.ylabel(\"Installs\") #Y軸標簽\n",
        "plt.grid(True)"
      ]
    },
    {
      "cell_type": "code",
      "execution_count": null,
      "metadata": {
        "colab": {
          "base_uri": "https://localhost:8080/",
          "height": 279
        },
        "id": "yip5LoqgKfnu",
        "outputId": "f3c226e4-66fe-4904-8dc0-22baca616157"
      },
      "outputs": [
        {
          "data": {
            "image/png": "[encoded data removed]",
            "text/plain": [
              "<Figure size 432x288 with 1 Axes>"
            ]
          },
          "metadata": {
            "needs_background": "light"
          },
          "output_type": "display_data"
        }
      ],
      "source": [
        "plt.scatter(data[\"Genres\"],data[\"Installs\"])\n",
        "plt.xlabel(\"Genres\") #X軸標簽\n",
        "plt.ylabel(\"Installs\") #Y軸標簽\n",
        "plt.grid(True)"
      ]
    },
    {
      "cell_type": "code",
      "execution_count": null,
      "metadata": {
        "colab": {
          "base_uri": "https://localhost:8080/",
          "height": 279
        },
        "id": "eKFocv6aLXi1",
        "outputId": "b05bff77-cf6f-4f1f-ed31-af7443f3e638"
      },
      "outputs": [
        {
          "data": {
            "image/png": "[encoded data removed]",
            "text/plain": [
              "<Figure size 432x288 with 1 Axes>"
            ]
          },
          "metadata": {
            "needs_background": "light"
          },
          "output_type": "display_data"
        }
      ],
      "source": [
        "plt.scatter(data[\"Last Updated\"],data[\"Installs\"])\n",
        "plt.xlabel(\"Last Updated\") #X軸標簽\n",
        "plt.ylabel(\"Installs\") #Y軸標簽\n",
        "plt.grid(True)"
      ]
    },
    {
      "cell_type": "markdown",
      "metadata": {
        "id": "z6x6c8kxrd50"
      },
      "source": [
        "## ANN"
      ]
    },
    {
      "cell_type": "code",
      "execution_count": null,
      "metadata": {
        "colab": {
          "base_uri": "https://localhost:8080/"
        },
        "id": "oe5yvbADrdnE",
        "outputId": "dbcf349b-7a2f-40a0-830a-cd4f09baa37a"
      },
      "outputs": [
        {
          "data": {
            "text/plain": [
              "0.4250566526383943"
            ]
          },
          "execution_count": 44,
          "metadata": {},
          "output_type": "execute_result"
        }
      ],
      "source": [
        "import pandas as pd\n",
        "from sklearn import preprocessing, neural_network, model_selection\n",
        "mms = preprocessing.MinMaxScaler()\n",
        "mlp = neural_network.MLPClassifier()\n",
        "mlp.fit(X_train, y_train)\n",
        "#mlp.predict([[0, 4.1, 0, 0, 0, 9, 561, 2582, 8]])\n",
        "mlp.score(X_test, y_test)"
      ]
    },
    {
      "cell_type": "markdown",
      "metadata": {
        "id": "wKZNiEy_sMus"
      },
      "source": [
        "## KNN"
      ]
    },
    {
      "cell_type": "code",
      "execution_count": null,
      "metadata": {
        "id": "EJSp97Q-sdTI"
      },
      "outputs": [],
      "source": [
        "from sklearn.neighbors import KNeighborsClassifier\n",
        "from sklearn.preprocessing import LabelEncoder\n",
        "from sklearn.model_selection import train_test_split\n",
        "from sklearn import tree\n",
        "from sklearn.metrics import roc_curve,roc_auc_score,auc,accuracy_score,confusion_matrix,classification_report\n",
        "import pydotplus\n",
        "from IPython.display import Image"
      ]
    },
    {
      "cell_type": "code",
      "execution_count": null,
      "metadata": {
        "colab": {
          "base_uri": "https://localhost:8080/",
          "height": 421
        },
        "id": "S_dZcVmEssTs",
        "outputId": "f1ca39ae-0599-4cf1-b0e1-4bfc08c568ba"
      },
      "outputs": [
        {
          "data": {
            "text/plain": [
              "Text(0, 0.5, 'Error Rate')"
            ]
          },
          "execution_count": 46,
          "metadata": {},
          "output_type": "execute_result"
        },
        {
          "data": {
            "image/png": "[encoded data removed]",
            "text/plain": [
              "<Figure size 720x432 with 1 Axes>"
            ]
          },
          "metadata": {
            "needs_background": "light"
          },
          "output_type": "display_data"
        }
      ],
      "source": [
        "error_rate=[]\n",
        "\n",
        "for i in range(1,10):\n",
        "  knn=KNeighborsClassifier(n_neighbors=i)\n",
        "  knn.fit(X_train,y_train)\n",
        "  pred_i=knn.predict(X_test)\n",
        "  error_rate.append(np.mean(pred_i!=y_test))\n",
        "\n",
        "plt.figure(figsize=(10,6))\n",
        "plt.plot(range(1,10),error_rate,color='blue',linestyle='dashed',marker='o',markerfacecolor='red',markersize=10)\n",
        "plt.title('Error rate vs. K Value')\n",
        "plt.xlabel('K')\n",
        "plt.ylabel('Error Rate')"
      ]
    },
    {
      "cell_type": "code",
      "execution_count": null,
      "metadata": {
        "colab": {
          "base_uri": "https://localhost:8080/"
        },
        "id": "lm1cw5mxsghM",
        "outputId": "9fe8122b-d949-40f6-e1d6-034d3a82bf67"
      },
      "outputs": [
        {
          "name": "stdout",
          "output_type": "stream",
          "text": [
            "WITH k=2\n",
            "\n",
            "\n",
            "[[ 306  265   18    0]\n",
            " [ 611 1128   99    1]\n",
            " [  68  321  257    2]\n",
            " [   0    1    4    8]]\n",
            "\n",
            "\n",
            "              precision    recall  f1-score   support\n",
            "\n",
            "           0       0.31      0.52      0.39       589\n",
            "           1       0.66      0.61      0.63      1839\n",
            "           2       0.68      0.40      0.50       648\n",
            "           3       0.73      0.62      0.67        13\n",
            "\n",
            "    accuracy                           0.55      3089\n",
            "   macro avg       0.59      0.54      0.55      3089\n",
            "weighted avg       0.60      0.55      0.56      3089\n",
            "\n"
          ]
        }
      ],
      "source": [
        "knn=KNeighborsClassifier(n_neighbors=2)\n",
        "knn.fit(X_train,y_train)\n",
        "pred=knn.predict(X_test)\n",
        "print('WITH k=2')\n",
        "print('\\n')\n",
        "print(confusion_matrix(y_test,pred))\n",
        "print('\\n')\n",
        "print(classification_report(y_test,pred))"
      ]
    },
    {
      "cell_type": "code",
      "execution_count": null,
      "metadata": {
        "colab": {
          "base_uri": "https://localhost:8080/"
        },
        "id": "NGDiCCKot7aO",
        "outputId": "39ae0636-2443-4bf2-827a-62714957328a"
      },
      "outputs": [
        {
          "name": "stdout",
          "output_type": "stream",
          "text": [
            "WITH k=9\n",
            "\n",
            "\n",
            "[[ 147  414   28    0]\n",
            " [ 200 1443  196    0]\n",
            " [  25  387  235    1]\n",
            " [   0    1    9    3]]\n",
            "\n",
            "\n",
            "              precision    recall  f1-score   support\n",
            "\n",
            "           0       0.40      0.25      0.31       589\n",
            "           1       0.64      0.78      0.71      1839\n",
            "           2       0.50      0.36      0.42       648\n",
            "           3       0.75      0.23      0.35        13\n",
            "\n",
            "    accuracy                           0.59      3089\n",
            "   macro avg       0.57      0.41      0.45      3089\n",
            "weighted avg       0.57      0.59      0.57      3089\n",
            "\n"
          ]
        }
      ],
      "source": [
        "knn=KNeighborsClassifier(n_neighbors=9)\n",
        "knn.fit(X_train,y_train)\n",
        "pred=knn.predict(X_test)\n",
        "print('WITH k=9')\n",
        "print('\\n')\n",
        "print(confusion_matrix(y_test,pred))\n",
        "print('\\n')\n",
        "print(classification_report(y_test,pred))"
      ]
    },
    {
      "cell_type": "markdown",
      "metadata": {
        "id": "uCpKKo31Lfal"
      },
      "source": [
        "# 結果比較"
      ]
    },
    {
      "cell_type": "markdown",
      "metadata": {
        "id": "mBZibf4Mzt4B"
      },
      "source": [
        "## ROC"
      ]
    },
    {
      "cell_type": "code",
      "execution_count": null,
      "metadata": {
        "colab": {
          "base_uri": "https://localhost:8080/",
          "height": 295
        },
        "id": "61bxI8V8y-WQ",
        "outputId": "e62cd463-22d6-4916-e9e8-820dfc8ff7d0"
      },
      "outputs": [
        {
          "data": {
            "image/png": "[encoded data removed]",
            "text/plain": [
              "<Figure size 432x288 with 1 Axes>"
            ]
          },
          "metadata": {
            "needs_background": "light"
          },
          "output_type": "display_data"
        }
      ],
      "source": [
        "#roc curve比較各種分類器\n",
        "\n",
        "#隨機森林\n",
        "rf = RandomForestClassifier(n_estimators=5)\n",
        "rf.fit(X_train, y_train)\n",
        "y_pred_rf = rf.predict_proba(X_test)[:,1]\n",
        "fpr_rf, tpr_rf, thresholds_rf = roc_curve(y_test, y_pred_rf, pos_label=1)\n",
        "auc_rf = auc(fpr_rf, tpr_rf)\n",
        "\n",
        "#決策樹\n",
        "dtc = tree.DecisionTreeClassifier()\n",
        "dtc.fit(X_train, y_train)\n",
        "y_pred_dtc = dtc.predict_proba(X_test)[:,1]\n",
        "fpr_dtc, tpr_dtc, thresholds_dtc = roc_curve(y_test, y_pred_dtc, pos_label=1)\n",
        "auc_dtc = auc(fpr_dtc, tpr_dtc)\n",
        "\n",
        "#KNN\n",
        "knn=KNeighborsClassifier(n_neighbors=9)\n",
        "knn.fit(X_train,y_train)\n",
        "y_pred_knn=knn.predict(X_test)\n",
        "fpr_knn, tpr_knn, thresholds_knn = roc_curve(y_test, y_pred_knn, pos_label=1)\n",
        "auc_knn = auc(fpr_knn, tpr_knn)\n",
        "\n",
        "\n",
        "#繪製roc curve\n",
        "plt.figure(1)\n",
        "plt.plot([0 ,1], [0, 1],[0, 1], 'k--')\n",
        "plt.plot(fpr_dtc, tpr_dtc, label='DT (area = {:.3f})'.format(auc_dtc))\n",
        "plt.plot(fpr_rf, tpr_rf, label='RF (area = {:.3f})'.format(auc_rf))\n",
        "plt.plot(fpr_knn, tpr_knn, label='KNN (area = {:.3f})'.format(auc_knn))\n",
        "plt.xlabel('False positive rate')\n",
        "plt.ylabel('True positive rate')\n",
        "plt.title('ROC curve')\n",
        "plt.legend(loc='best')\n",
        "plt.show()"
      ]
    }
  ],
  "metadata": {
    "colab": {
      "collapsed_sections": [],
      "name": "google play store_最後版本.ipynb",
      "provenance": []
    },
    "kernelspec": {
      "display_name": "Python 3",
      "name": "python3"
    },
    "language_info": {
      "name": "python"
    }
  },
  "nbformat": 4,
  "nbformat_minor": 0
}
